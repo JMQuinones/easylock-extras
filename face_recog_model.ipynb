{
  "nbformat": 4,
  "nbformat_minor": 0,
  "metadata": {
    "colab": {
      "provenance": [],
      "gpuType": "T4",
      "include_colab_link": true
    },
    "kernelspec": {
      "name": "python3",
      "display_name": "Python 3"
    },
    "language_info": {
      "name": "python"
    },
    "accelerator": "GPU"
  },
  "cells": [
    {
      "cell_type": "markdown",
      "metadata": {
        "id": "view-in-github",
        "colab_type": "text"
      },
      "source": [
        "<a href=\"https://colab.research.google.com/github/JMQuinones/easylock-extras/blob/master/face_recog_model.ipynb\" target=\"_parent\"><img src=\"https://colab.research.google.com/assets/colab-badge.svg\" alt=\"Open In Colab\"/></a>"
      ]
    },
    {
      "cell_type": "markdown",
      "source": [
        "# Modelo de reconocimiento facial\n",
        "\n"
      ],
      "metadata": {
        "id": "dNBoNdO8XNIu"
      }
    },
    {
      "cell_type": "markdown",
      "source": [
        "# 1. Importar librerias y funciones auxiliares\n",
        "\n",
        "\n",
        "\n"
      ],
      "metadata": {
        "id": "bfYQynS9XfMm"
      }
    },
    {
      "cell_type": "code",
      "source": [
        "!pip install pillow\n",
        "!pip install --upgrade pip\n",
        "!pip install 'keras<3.0.0' mediapipe-model-maker\n",
        "!pip install -q mediapipe\n",
        "!pip install keras"
      ],
      "metadata": {
        "id": "-_LsEmvAg_OB"
      },
      "execution_count": null,
      "outputs": []
    },
    {
      "cell_type": "code",
      "source": [
        "import os\n",
        "import math\n",
        "\n",
        "import tensorflow as tf\n",
        "import matplotlib.pyplot as plt\n",
        "from mediapipe_model_maker import image_classifier\n",
        "\n",
        "import mediapipe as mp\n",
        "from mediapipe.tasks import python\n",
        "from mediapipe.tasks.python.components import processors\n",
        "from mediapipe.tasks.python import vision\n",
        "import cv2\n",
        "\n",
        "from google.colab.patches import cv2_imshow\n",
        "from google.colab import drive\n"
      ],
      "metadata": {
        "id": "lzyVfzkxvc09"
      },
      "execution_count": null,
      "outputs": []
    },
    {
      "cell_type": "code",
      "source": [
        "# Obtenido de https://colab.research.google.com/github/googlesamples/mediapipe/blob/main/examples/image_classification/python/image_classifier.ipynb#scrollTo=TUfAcER1oUS6\n",
        "# Bajo la licencia Apache 2.0\n",
        "from matplotlib import pyplot as plt\n",
        "plt.rcParams.update({\n",
        "    'axes.spines.top': False,\n",
        "    'axes.spines.right': False,\n",
        "    'axes.spines.left': False,\n",
        "    'axes.spines.bottom': False,\n",
        "    'xtick.labelbottom': False,\n",
        "    'xtick.bottom': False,\n",
        "    'ytick.labelleft': False,\n",
        "    'ytick.left': False,\n",
        "    'xtick.labeltop': False,\n",
        "    'xtick.top': False,\n",
        "    'ytick.labelright': False,\n",
        "    'ytick.right': False\n",
        "})\n",
        "\n",
        "\n",
        "def display_one_image(image, title, subplot, titlesize=16):\n",
        "    \"\"\"Displays one image along with the predicted category name and score.\"\"\"\n",
        "    plt.subplot(*subplot)\n",
        "    plt.imshow(image)\n",
        "    if len(title) > 0:\n",
        "        plt.title(title, fontsize=int(titlesize), color='black', fontdict={'verticalalignment':'center'}, pad=int(titlesize/1.5))\n",
        "    return (subplot[0], subplot[1], subplot[2]+1)\n",
        "\n",
        "def display_batch_of_images(images, predictions):\n",
        "    \"\"\"Displays a batch of images with the classifications.\"\"\"\n",
        "    # Images and predictions.\n",
        "    images = [image.numpy_view() for image in images]\n",
        "\n",
        "    # Auto-squaring: this will drop data that does not fit into square or square-ish rectangle.\n",
        "    rows = int(math.sqrt(len(images)))\n",
        "    cols = len(images) // rows\n",
        "\n",
        "    # Size and spacing.\n",
        "    FIGSIZE = 7.0\n",
        "    SPACING = 0.1\n",
        "    subplot=(rows,cols, 1)\n",
        "    if rows < cols:\n",
        "        plt.figure(figsize=(FIGSIZE,FIGSIZE/cols*rows))\n",
        "    else:\n",
        "        plt.figure(figsize=(FIGSIZE/rows*cols,FIGSIZE))\n",
        "\n",
        "    # Display.\n",
        "    for i, (image, prediction) in enumerate(zip(images[:rows*cols], predictions[:rows*cols])):\n",
        "        dynamic_titlesize = FIGSIZE*SPACING/max(rows,cols) * 40 + 3\n",
        "        subplot = display_one_image(image, prediction, subplot, titlesize=dynamic_titlesize)\n",
        "\n",
        "    # Layout.\n",
        "    plt.tight_layout()\n",
        "    plt.subplots_adjust(wspace=SPACING, hspace=SPACING)\n",
        "    plt.show()"
      ],
      "metadata": {
        "id": "UprA_n8RUhG3"
      },
      "execution_count": null,
      "outputs": []
    },
    {
      "cell_type": "markdown",
      "source": [
        "# 2. Pre-procesamiento"
      ],
      "metadata": {
        "id": "3EWK1lVYhWLE"
      }
    },
    {
      "cell_type": "markdown",
      "source": [
        "##  2.1 Cargar el conjunto de datos"
      ],
      "metadata": {
        "id": "WDAUazosh3K1"
      }
    },
    {
      "cell_type": "code",
      "execution_count": null,
      "metadata": {
        "id": "_Z04eH11uu3-"
      },
      "outputs": [],
      "source": [
        "drive.mount('/content/drive')"
      ]
    },
    {
      "cell_type": "code",
      "source": [
        "!unzip 'drive/MyDrive/Colab Notebooks/mediapipe/dataset.zip' -d ."
      ],
      "metadata": {
        "id": "ObMYwKt_-oeZ"
      },
      "execution_count": null,
      "outputs": []
    },
    {
      "cell_type": "code",
      "source": [
        "!unzip 'drive/MyDrive/Colab Notebooks/mediapipe/test_dataset.zip' -d .\n"
      ],
      "metadata": {
        "id": "VOwGqKB0cYOX"
      },
      "execution_count": null,
      "outputs": []
    },
    {
      "cell_type": "code",
      "source": [
        "image_path = os.path.join(os.path.dirname('.'), 'dataset')\n",
        "test_path = os.path.join(os.path.dirname('.'), 'test_dataset')"
      ],
      "metadata": {
        "id": "TecVEE4tf1if"
      },
      "execution_count": null,
      "outputs": []
    },
    {
      "cell_type": "markdown",
      "source": [
        "##2.2 Crear los conjuntos de datos\n",
        "\n",
        "Primero verificamos las etiquetas (labels) de los datos\n",
        "\n",
        "\n",
        "\n",
        "\n"
      ],
      "metadata": {
        "id": "KRBbSzvVh_wl"
      }
    },
    {
      "cell_type": "code",
      "source": [
        "print(image_path)\n",
        "labels = []\n",
        "for i in os.listdir(image_path):\n",
        "  if os.path.isdir(os.path.join(image_path, i)):\n",
        "    labels.append(i)\n",
        "print(labels)"
      ],
      "metadata": {
        "id": "q1f2AvNLvuZE"
      },
      "execution_count": null,
      "outputs": []
    },
    {
      "cell_type": "markdown",
      "source": [
        "Existen dos etiquetas:\n",
        " * positive. Para las imagenes positivas\n",
        " * negative. Para las imagenes negativas"
      ],
      "metadata": {
        "id": "wIg38eTfgRDJ"
      }
    },
    {
      "cell_type": "markdown",
      "source": [
        "Ejemplos de imagenes positivas y negativas"
      ],
      "metadata": {
        "id": "wCKiC7ppY2Kn"
      }
    },
    {
      "cell_type": "code",
      "source": [
        "NUM_EXAMPLES = 5\n",
        "\n",
        "%matplotlib inline\n",
        "for label in labels:\n",
        "  label_dir = os.path.join(image_path, label)\n",
        "  example_filenames = os.listdir(label_dir)[:NUM_EXAMPLES]\n",
        "  fig, axs = plt.subplots(1, NUM_EXAMPLES, figsize=(10,2))\n",
        "  for i in range(NUM_EXAMPLES):\n",
        "    axs[i].imshow(plt.imread(os.path.join(label_dir, example_filenames[i])))\n",
        "    axs[i].get_xaxis().set_visible(False)\n",
        "    axs[i].get_yaxis().set_visible(False)\n",
        "  plot_label = 'positivas' if label == 'positive' else 'negativas'\n",
        "  fig.suptitle(f'{NUM_EXAMPLES} ejemplos de imagenes {plot_label}')\n",
        "plt.show()"
      ],
      "metadata": {
        "id": "TH9teB2-LSzx"
      },
      "execution_count": null,
      "outputs": []
    },
    {
      "cell_type": "markdown",
      "source": [
        "Se carga todas las imagenes desde un directorio y se crea tres conjuntos de datos:\n",
        "  * train_data. El conjunto de entrenamiento que consta del 70% de los datos\n",
        "  * validation_data. Utilizado para la validacion al momento de realizar el entrenamiento, que posee el 30% de los datos\n",
        "  * test_data. 1000 imagenes (500 por clase) para realizar las pruebas del modelo."
      ],
      "metadata": {
        "id": "tGyNrQL4ggwo"
      }
    },
    {
      "cell_type": "code",
      "source": [
        "data = image_classifier.Dataset.from_folder(image_path)\n",
        "train_data, validation_data = data.split(0.7)\n",
        "test_data = image_classifier.Dataset.from_folder(test_path)"
      ],
      "metadata": {
        "id": "vusxH3WngfkY"
      },
      "execution_count": null,
      "outputs": []
    },
    {
      "cell_type": "code",
      "source": [
        "print(f\"train_data size {train_data.size} validation_data size {validation_data.size} test_data size {test_data.size}\")"
      ],
      "metadata": {
        "id": "rPAE4yEZhUIR"
      },
      "execution_count": null,
      "outputs": []
    },
    {
      "cell_type": "markdown",
      "source": [
        "# 3. Entrenamiento del modelo\n",
        "El framework \"MediaPipe\" utiliza la tecnica conocida como Transfer learning para re-entrenar un modelo existente con nuestros propios datos. Esto permite entrenar modelos de ML de forma mas rapida y precisa."
      ],
      "metadata": {
        "id": "kTdrmKYAi_IV"
      }
    },
    {
      "cell_type": "markdown",
      "source": [
        "##3.1 Configurar el modelo\n",
        "\n",
        "El primer paso es configurar los parametros que se utilizaran en el entrenamiento, incluyendo el numero de epocas (epochs) o la arquitectura del modelo que se utilizara.\n"
      ],
      "metadata": {
        "id": "l7CnTLpzjDvd"
      }
    },
    {
      "cell_type": "code",
      "source": [
        "# Modelo a utilizar\n",
        "spec = image_classifier.SupportedModels.MOBILENET_V2\n",
        "# Directorio para guardar el modelo\n",
        "export_dir=\"exported_model\""
      ],
      "metadata": {
        "id": "IZE2Edt3i5B6"
      },
      "execution_count": null,
      "outputs": []
    },
    {
      "cell_type": "code",
      "source": [
        "# 10 epocas, aleatorizacion, deshabilitar data augmentation\n",
        "hparams=image_classifier.HParams(epochs=10, export_dir=export_dir, shuffle=True, do_data_augmentation=False)\n",
        "options = image_classifier.ImageClassifierOptions(supported_model=spec, hparams=hparams)\n",
        "options.model_options = image_classifier.ModelOptions(dropout_rate = 0.2)"
      ],
      "metadata": {
        "id": "J-fu7s9V4-lF"
      },
      "execution_count": null,
      "outputs": []
    },
    {
      "cell_type": "markdown",
      "source": [
        "##3.2. Entrenar"
      ],
      "metadata": {
        "id": "4Z13xqGDjhD9"
      }
    },
    {
      "cell_type": "code",
      "source": [
        "model = image_classifier.ImageClassifier.create(\n",
        "    train_data = train_data,\n",
        "    validation_data = validation_data,\n",
        "    options=options,\n",
        ")"
      ],
      "metadata": {
        "id": "LITLA6rsyr3l"
      },
      "execution_count": null,
      "outputs": []
    },
    {
      "cell_type": "code",
      "source": [
        "model.summary()"
      ],
      "metadata": {
        "id": "3hfHLEJZq-f5",
        "collapsed": true
      },
      "execution_count": null,
      "outputs": []
    },
    {
      "cell_type": "markdown",
      "source": [
        "# 4. Exportar el modelo\n",
        "Para poder utilizar el modelo en una aplicacion movil, debe convertirse a un modelo tipo *tflite*.\n",
        "MediaPipe ofrece metodos para exportar el modelo, junto con todos los metadatos necesarios."
      ],
      "metadata": {
        "id": "2fhvSIn6k1tF"
      }
    },
    {
      "cell_type": "code",
      "source": [
        "model.export_model()"
      ],
      "metadata": {
        "id": "PdXxtW_Z0WMc"
      },
      "execution_count": null,
      "outputs": []
    },
    {
      "cell_type": "code",
      "source": [
        "!ls exported_model"
      ],
      "metadata": {
        "id": "KAOtxRpkjlhR"
      },
      "execution_count": null,
      "outputs": []
    },
    {
      "cell_type": "markdown",
      "source": [
        "# 5. Validacion del modelo"
      ],
      "metadata": {
        "id": "LL1qHF2ykxgd"
      }
    },
    {
      "cell_type": "code",
      "source": [
        "model_path = os.path.join(os.path.dirname('.'), 'exported_model','model.tflite')"
      ],
      "metadata": {
        "id": "py8x3IzHs28V"
      },
      "execution_count": null,
      "outputs": []
    },
    {
      "cell_type": "markdown",
      "source": [
        "## 5.1. Verificacion con imagenes de prueba\n",
        "Verificamos las predicciones del modelo con imagenes aleatorias, para comprobar que se realiza un clasificacion **adecuada**"
      ],
      "metadata": {
        "id": "JK1zsGD8WDUu"
      }
    },
    {
      "cell_type": "code",
      "source": [
        "image_paths = [\n",
        "    '/content/test_dataset/positive/IMG_20240401_101103.jpg',\n",
        "    '/content/test_dataset/negative/Paul_Bremer_0001.jpg',\n",
        "    '/content/test_dataset/negative/Robert_Duvall_0001.jpg',\n",
        "    '/content/test_dataset/negative/Robert_Mugabe_0001.jpg',\n",
        "    '/content/test_dataset/negative/Rod_Stewart_0002.jpg',\n",
        "    '/content/test_dataset/negative/Roger_Moore_0003.jpg',\n",
        "    '/content/test_dataset/positive/18dc6425-9986-434b-9718-02de6a2cf9e0.jpg',\n",
        "    '/content/test_dataset/positive/7e7dc56d-4317-4a06-a453-be68e3ade492.jpg',\n",
        "    '/content/test_dataset/positive/ed77614e-f1c6-11ee-b4b8-309c233d13a3.jpg'\n",
        "    ]"
      ],
      "metadata": {
        "id": "KJpdJqd-X3Q-"
      },
      "execution_count": null,
      "outputs": []
    },
    {
      "cell_type": "code",
      "source": [
        "base_options = python.BaseOptions(model_asset_path=model_path)\n",
        "options = vision.ImageClassifierOptions(\n",
        "    base_options=base_options, max_results=9)\n",
        "classifier = vision.ImageClassifier.create_from_options(options)\n",
        "\n",
        "images = []\n",
        "predictions = []\n",
        "for image_name in image_paths:\n",
        "  image = mp.Image.create_from_file(image_name)\n",
        "\n",
        "  classification_result = classifier.classify(image)\n",
        "\n",
        "  images.append(image)\n",
        "  top_category = classification_result.classifications[0].categories[0]\n",
        "  predictions.append(f\"{top_category.category_name} ({top_category.score:.2f})\")\n",
        "\n",
        "display_batch_of_images(images, predictions)"
      ],
      "metadata": {
        "id": "udO2yMK5TO_-"
      },
      "execution_count": null,
      "outputs": []
    },
    {
      "cell_type": "markdown",
      "source": [
        "## 5.2. Matriz de confusion\n",
        "Es una visualizacion del rendimiento de un modelo, indica qué tipos de aciertos y errores está teniendo nuestro modelo a la hora de pasar por el proceso de aprendizaje con los datos.\n",
        "\n",
        "Esta compuesta por:\n",
        "* Verdaderos positivos\n",
        "* Verdaderos negativos\n",
        "* Falsos positivos\n",
        "* Falsos negativos\n",
        "\n",
        "![image_5baaeac4c0.png](data:image/png;base64,iVBORw0KGgoAAAANSUhEUgAAA9AAAAKeCAYAAABNi/NAAAAKqmlDQ1BJQ0MgUHJvZmlsZQAASImVlwdQU+kWx79700NCSwgdQm/SWwApIbTQpYOohCRAKCEEgoJdWVzBtaAighVdAVFwLYAsKiKKhUVQseuCLCLKulgQFZV3gSG4++a9N+/MnDm/nJzv/53vzv1mzgWALM8RidJheQAyhDniMF9PekxsHB03BHAAC2iAAhw43GwRMzQ0ECA2G/9uH+4CaCreNp/S+vf//6sp8PjZXACgUIQTedncDIRPI/6SKxLnAIA6gOT1luaIprgdYaoYaRDh+1OcPMMjU5w4zWgwXRMRxkKYCgCexOGIkwEg0ZE8PZebjOiQPBC2EvIEQoRFCLtlZGTyED6BsDFSg+RIU/qMxO90kv+mmSjV5HCSpTxzlmnDewmyRemcvP/zcfxvy0iXzO5hiDgpRewXhkRF5JndT8sMkLIwMThklgW86fppTpH4Rc4yN5sVN8s8jleAdG16cOAsJwl82FKdHHbELPOzvcNnWZwZJt0rScxizjJHPLevJC1Smk/hs6X6+SkR0bOcK4gKnuXstPCAuRqWNC+WhEn75wt9Pef29ZGePSP7u/MK2NK1OSkRftKzc+b65wuZc5rZMdLeeHwv77maSGm9KMdTupcoPVRaz0/3leazc8Ola3OQF3Jubaj0GaZy/ENnGbBAJkhHXAzoIBD55QVADn9ZztRBWJmiPLEgOSWHzkRuGJ/OFnIt5tFtrGxsAZi6rzOvwzva9D2EaNfncut1AHDNm5ycbJnLBXQDcOocAMSHczmjQQBkrwNwdRdXIs6dyU3fJQwgAjlABapAC+gBY2AObIADcAEewBv4gxAQAWLBYsAFKSAD6XwpWAHWgkJQDLaCnaAc7AeHQDU4Dk6CRtACLoIr4AboBr3gEegDg+AVGAUfwAQEQTiIDFEgVUgbMoDMIBuIAblB3lAgFAbFQglQMiSEJNAKaD1UDJVA5dBBqAb6BToLXYSuQT3QA6gfGobeQp9hFEyCqbAmbAhbwgyYCQfAEfAiOBnOgvPhAngzXAZXwsfgBvgifAPuhfvgV/AYCqBkUDSUDsocxUCxUCGoOFQSSoxahSpClaIqUXWoZlQH6jaqDzWC+oTGoiloOtoc7YL2Q0eiuegs9Cr0JnQ5uhrdgG5H30b3o0fR3zBkjAbGDOOMYWNiMMmYpZhCTCnmCOYM5jKmFzOI+YDFYmlYI6wj1g8bi03FLsduwu7F1mNbsT3YAewYDodTxZnhXHEhOA4uB1eI2407hruAu4UbxH3Ey+C18TZ4H3wcXohfhy/FH8Wfx9/CD+EnCPIEA4IzIYTAI+QRthAOE5oJNwmDhAmiAtGI6EqMIKYS1xLLiHXEy8THxHcyMjK6Mk4yC2QEMmtkymROyFyV6Zf5RFIkmZJYpHiShLSZVEVqJT0gvSOTyYZkD3IcOYe8mVxDvkR+Sv4oS5G1kGXL8mRXy1bINsjekn0tR5AzkGPKLZbLlyuVOyV3U25EniBvKM+S58ivkq+QPyt/T35MgaJgrRCikKGwSeGowjWFF4o4RUNFb0WeYoHiIcVLigMUFEWPwqJwKesphymXKYNULNWIyqamUoupx6ld1FElRSU7pSilZUoVSueU+mgomiGNTUunbaGdpN2lfVbWVGYq85U3Ktcp31IeV1FX8VDhqxSp1Kv0qnxWpat6q6apblNtVH2ihlYzVVugtlRtn9pltRF1qrqLOle9SP2k+kMNWMNUI0xjucYhjU6NMU0tTV9NkeZuzUuaI1o0LQ+tVK0dWue1hrUp2m7aAu0d2he0X9KV6Ex6Or2M3k4f1dHQ8dOR6BzU6dKZ0DXSjdRdp1uv+0SPqMfQS9LbodemN6qvrR+kv0K/Vv+hAcGAYZBisMugw2Dc0Mgw2nCDYaPhCyMVI7ZRvlGt0WNjsrG7cZZxpfEdE6wJwyTNZK9Jtylsam+aYlphetMMNnMwE5jtNeuZh5nnNE84r3LePXOSOdM817zWvN+CZhFosc6i0eK1pb5lnOU2yw7Lb1b2VulWh60eWSta+1uvs262fmtjasO1qbC5Y0u29bFdbdtk+8bOzI5vt8/uvj3FPsh+g32b/VcHRwexQ53DsKO+Y4LjHsd7DCojlLGJcdUJ4+TptNqpxemTs4NzjvNJ579czF3SXI66vJhvNJ8///D8AVddV47rQdc+N7pbgtsBtz53HXeOe6X7Mw89D57HEY8hpgkzlXmM+drTylPsecZznOXMWslq9UJ5+XoVeXV5K3pHepd7P/XR9Un2qfUZ9bX3Xe7b6ofxC/Db5nePrcnmsmvYo/6O/iv92wNIAeEB5QHPAk0DxYHNQXCQf9D2oMfBBsHC4MYQEMIO2R7yJNQoNCv01wXYBaELKhY8D7MOWxHWEU4JXxJ+NPxDhGfElohHkcaRksi2KLmo+KiaqPFor+iS6L4Yy5iVMTdi1WIFsU1xuLiouCNxYwu9F+5cOBhvH18Yf3eR0aJli64tVlucvvjcErklnCWnEjAJ0QlHE75wQjiVnLFEduKexFEui7uL+4rnwdvBG+a78kv4Q0muSSVJL5Jdk7cnD6e4p5SmjAhYgnLBm1S/1P2p42khaVVpk+nR6fUZ+IyEjLNCRWGasD1TK3NZZo/ITFQo6styztqZNSoOEB/JhrIXZTflUJHBqFNiLPlB0p/rlluR+3Fp1NJTyxSWCZd15pnmbcwbyvfJ/3k5ejl3edsKnRVrV/SvZK48uApalbiqbbXe6oLVg2t811SvJa5NW/vbOqt1Jever49e31ygWbCmYOAH3x9qC2ULxYX3Nrhs2P8j+kfBj10bbTfu3vitiFd0vdiquLT4yybupus/Wf9U9tPk5qTNXVsctuzbit0q3Hp3m/u26hKFkvySge1B2xt20HcU7Xi/c8nOa6V2pft3EXdJdvWVBZY17dbfvXX3l/KU8t4Kz4r6PRp7Nu4Z38vbe2ufx766/Zr7i/d/PiA4cP+g78GGSsPK0kPYQ7mHnh+OOtzxM+PnmiNqR4qPfK0SVvVVh1W31zjW1BzVOLqlFq6V1A4fiz/WfdzreFOded3Belp98QlwQnLi5S8Jv9w9GXCy7RTjVN1pg9N7zlDOFDVADXkNo40pjX1NsU09Z/3PtjW7NJ/51eLXqhadlopzSue2nCeeLzg/eSH/wlirqHXkYvLFgbYlbY8uxVy6076gvetywOWrV3yuXOpgdly46nq15ZrztbPXGdcbbzjcaOi07zzzm/1vZ7ocuhpuOt5s6nbqbu6Z33P+lvuti7e9bl+5w75zoze4t+du5N379+Lv9d3n3X/xIP3Bm4e5DycerXmMeVz0RP5J6VONp5W/m/xe3+fQd67fq7/zWfizRwPcgVd/ZP/xZbDgOfl56ZD2UM0Lmxctwz7D3S8Xvhx8JXo1MVL4p8Kfe14bvz79l8dfnaMxo4NvxG8m3256p/qu6r3d+7ax0LGnHzI+TIwXfVT9WP2J8anjc/TnoYmlX3Bfyr6afG3+FvDt8WTG5KSII+ZMjwIoxOGkJADeVgFAjgWAgswQxIUz8/S0QTPfANME/hPPzNzT5gBAHRKmxiJWKwAnEDdcg2gjcWokivAAsK2t1Gdn3+k5fcqwyBfLAdcp6lXhrQH/sJkZ/ru+/xnBlKod+Gf8F7zHB++Oco7eAAAAimVYSWZNTQAqAAAACAAEARoABQAAAAEAAAA+ARsABQAAAAEAAABGASgAAwAAAAEAAgAAh2kABAAAAAEAAABOAAAAAAAAAJAAAAABAAAAkAAAAAEAA5KGAAcAAAASAAAAeKACAAQAAAABAAAD0KADAAQAAAABAAACngAAAABBU0NJSQAAAFNjcmVlbnNob3Q+A5GOAAAACXBIWXMAABYlAAAWJQFJUiTwAAAB1mlUWHRYTUw6Y29tLmFkb2JlLnhtcAAAAAAAPHg6eG1wbWV0YSB4bWxuczp4PSJhZG9iZTpuczptZXRhLyIgeDp4bXB0az0iWE1QIENvcmUgNi4wLjAiPgogICA8cmRmOlJERiB4bWxuczpyZGY9Imh0dHA6Ly93d3cudzMub3JnLzE5OTkvMDIvMjItcmRmLXN5bnRheC1ucyMiPgogICAgICA8cmRmOkRlc2NyaXB0aW9uIHJkZjphYm91dD0iIgogICAgICAgICAgICB4bWxuczpleGlmPSJodHRwOi8vbnMuYWRvYmUuY29tL2V4aWYvMS4wLyI+CiAgICAgICAgIDxleGlmOlBpeGVsWURpbWVuc2lvbj42NzA8L2V4aWY6UGl4ZWxZRGltZW5zaW9uPgogICAgICAgICA8ZXhpZjpQaXhlbFhEaW1lbnNpb24+OTc2PC9leGlmOlBpeGVsWERpbWVuc2lvbj4KICAgICAgICAgPGV4aWY6VXNlckNvbW1lbnQ+U2NyZWVuc2hvdDwvZXhpZjpVc2VyQ29tbWVudD4KICAgICAgPC9yZGY6RGVzY3JpcHRpb24+CiAgIDwvcmRmOlJERj4KPC94OnhtcG1ldGE+ChH/h+IAAAAcaURPVAAAAAIAAAAAAAABTwAAACgAAAFPAAABTwAAdKgj03soAABAAElEQVR4AezdB7wTxdrH8YdepHeRriiIIoggggURAcWOysWGDb1g7xUsWFCxgAU7ooAoinIVEESsqDRBUEFRQAHpvdfzzrO+G5OcTU7KZrNJfvt+eE+yOzs7+50c7/lnd2cK5ZlFWBBAAAEEEEAAAQQQQAABBBBAIKpAIQJ0VB82IoAAAggggAACCCCAAAIIIGAJEKD5ICCAAAIIIIAAAggggAACCCAQgwABOgYkiiCAAAIIIIAAAggggAACCCBAgOYzgAACCCCAAAIIIIAAAggggEAMAgToGJAoggACCCCAAAIIIIAAAggggAABms8AAggggAACCCCAAAIIIIAAAjEIEKBjQKIIAggggAACCCCAAAIIIIAAAgRoPgMIIIAAAggggAACCCCAAAIIxCBAgI4BiSIIIIAAAggggAACCCCAAAIIEKD5DCCAAAIIIIAAAggggAACCCAQgwABOgYkiiCAAAIIIIAAAggggAACCCBAgOYzgAACCCCAAAIIIIAAAggggEAMAgToGJAoggACCCCAAAIIIIAAAggggAABms8AAggggAACCCCAAAIIIIAAAjEIEKBjQKIIAggggAACCCCAAAIIIIAAAgRoPgMIIIAAAggggAACCCCAAAIIxCBAgI4BiSIIIIAAAggggAACCCCAAAIIEKD5DCCAAAIIIIAAAggggAACCCAQgwABOgYkiiCAAAIIIIAAAggggAACCCBAgOYzgAACCCCAAAIIIIAAAggggEAMAgToGJAoggACCCCAAAIIIIAAAggggAABms8AAggggAACCCCAAAIIIIAAAjEIEKBjQKIIAggggAACCCCAAAIIIIAAAgRoPgMIIIAAAnELrNzwlyxbs0BWb1gqG7aulm07NsuevbvirocdEEAgskDJ4vtJ2VIVpVK5GlKjUn2pU62RlCxWOvIObEEAAQQQSLkAATrlxBwAAQQQyA6BPXt3y5xFX8v8v6bJ+i0rs+OkOAsEMkzgoJrNpEm9Y6RWlYMzrOU0FwEEEMgOAQJ0dvQjZ4EAAgikVGDu4m9k+vwJsn3XlpQeh8oRQCA2gQY1DpfWjbtIxbLVY9uBUggggAACrggQoF1hpBIEEEAgOwW27dwsX/z4rixa8VN2niBnhUAGCxSSQnL8EefKYXXbZPBZ0HQEEEAgswQI0JnVX7QWAQQQ8Exg9cYlMmHGm7Jx6xrPjsmBEEAgfoFmB50obQ89I/4d2QMBBBBAIG4BAnTcZOyAAAIIZL+ADhL28fcvy45dW7P/ZDlDBLJA4LB6beWEpudmwZlwCggggIC/BQjQ/u4fWocAAgh4LrBp2zr5YMqzsmX7Bs+PzQERQCBxgRYHd5DWjbokXgF7IoAAAggUKECALpCIAggggEBuCXw45XlZtvb33DppzhaBLBHocOSFckito7LkbDgNBBBAwH8CBGj/9QktQgABBNImMP23CTJt/idpOz4HRgCB5ARKFCslF7S/S0qXKJtcReyNAAIIIOAoQIB2ZGElAgggkHsCOljYsM8ezr0T54wRyDKBJnWPkXZHnJ9lZ8XpIIAAAv4QIED7ox9oBQIIIJB2gS/nvCc/LZ6S9nbQAAQQSF5Ar0JXLFMt+YqoAQEEEEAgRIAAHcLBGwQQQCA3BXbt2SGvjr9H8vL25SYAZ41Algk0N1NbtWFqqyzrVU4HAQT8IECA9kMv0AYEEEAgzQLz/poqk2ePTHMrODwCCLglULZURbnk5L5uVUc9CCCAAAL/L0CA5qOAAAIIICATZ74lC5b9gAQCCGSRQLcTbpUq5Q/IojPiVBBAAIH0CxCg098HtAABBBBIu8Bbk/qJzv/MggAC2SOgA4npgGIsCCCAAALuCRCg3bOkJgQQQCAjBfbs3SUvjb0jI9tOoxFAILLAEQ1OkGMPOytyAbYggAACCMQtQICOm4wdEEAAgewSYPqq7OpPzgYBW+Cgms2k01E97Lf8RAABBBBwQYAA7QIiVSCAAAKZLLB641J598snM/kUaDsCCDgI1KnWWE5vfZXDFlYhgAACCCQqQIBOVI79EEAAgSwRIEBnSUdyGgiECdSp2khOP+bqsLW8RQABBBBIRoAAnYwe+yKAAAJZIECAzoJO5BQQcBAgQDugsAoBBBBIUoAAnSQguyOAAAKZLkCAzvQe9Gf750z9Q36eudixccd1PlxqNajmuI2V7gkQoN2zpCYEEEDAFiBA2xL8RAABBHJUwI0AvXfvPtm+dafrgiVKFpNixYu6Xi8V5hfYsnG7rFu9Wdav3iS7d++VqjXKS9X9K0jpsiXzF45hzUfDvpUJo6Y5lux552lyxDEHOW5jpXsCBGj3LKkJAQQQsAUI0LYEPxFAAIEcFXAjQP88Y7EM7veh64Ln9mwn7U5r5nq9VPiPwOJfl8uUiT/JrCkLZMf2XY4sGqCrmSB9zMlNpPVJTaRIkcKO5cJXEqDDRbx/T4D23pwjIoBA9gsQoLO/jzlDBBBAIKoAAToqT1Zu/MXcWv3h0G/k7z/XxHV+lauVk07nt5Kj2x9aYJAmQMdFm5LCBOiUsFIpAgjkuAABOsc/AJw+AgggQIDOnc/Avn15MnbEdzLxvWmSl5f4eVc7oKJc98A5UrFq2YiVEKAj0ni2gQDtGTUHQgCBHBIgQOdQZ3OqCCCAgJMAAdpJJfvW7dyxW158aIwsmLvUlZOrWrOC3PTIeVKu4n6O9RGgHVk8XUmA9pSbgyGAQI4IEKBzpKM5TQQQQCCSAAE6kkx2rR/69Ccy/Yv5rp5UzbqV5YaHz5P9HAYaI0C7Sp1QZQTohNjYCQEEEIgqQICOysNGBBBAIPsF3AjQ69dsll9+WBwR6+Ph38nmDdvybS9USOQ/vU/Kt95e0aBRTdm/TmXrrd5yPOf73+1NIT9Lli4hhxxRO2Td0oWr5K8/VsmePXvl+FOOsLZt27xDFvzkfAW2ihl1+oD6VUPqCH/z649LZMc259HGm7Y+SPR8YlmWLV4jSxetkg1rtsj6tVus54krVikjFSqXlYOaHGB+lomlmpjLfDfpZxn+7KcxldeRz0uVKSEb1241t3kXfJ93w8NryQ0PnZuvbjcCtI7uPm/Wn7Jq6XpZu2qjaGvUpraZAqtRszrG+x9wHQDt19l/5WuDrihvytc7uIbjtuCVa1dtkvmmjo3rtlif1UKFC0mV6v+MRK6jkdeoXSm4eMyv95rP32/mqr/2+eaN22Tblh1SvtJ+1gjnVapXkJr1Kksp8/lNxUKAToUqdSKAQK4LEKBz/RPA+SOAQM4LuBGgC0J8sPdQWbVsfb5iGoCe/fCGfOudVmiYuuGcQU6b5IB6VeSugRdZ2xbNXy7vv/alLP5thfU+eJuOOj3g9ncc6zi+yxFy/lUnOm6zVz56wzArCNnvg38OHH191IG1du/aI99++rNomNVwH2lRk8bN60rbjoe5MtXTOhMMH7r2Tdm1c0+kQ4oODnbahW2kbsPqUrVmReuLADu8Th7zg/w2Z0nEfXXDrY93k3qH7B9SJpkAvcvcbv75x7Pkq49/lI3rt4bUa7/RIH3Kf1pbTiuXrpN+17xpbwr5qdNl6bRZkRadr3rs29/LskWrIxWx1usXG2ddelxMYVx32LJpu3w8/FuZ8eWvEUc413IlSxWXDuccJe3PPFKKl3B3yjYCtAqzIIAAAu4KEKDd9aQ2BBBAIOMEsilAa9B78eH/iQYwe/FDgF5pvjx4/fGxEcO33dbwn0cee7B0v+akpK5QfmRC3IR3nedj1uM1b9tQLrimg5Taz/kqqF6EHv/O9zLOhMxIy5HHHSyX33pqyOZEA/QGc0X+xYf+F/VLhuADaftP6dZaHrn+reDVgdeRArReGX59wHj58TvnuxoCFYS9aHViY7no+o5S2FyhjrToVfMhA8aZq83Odys47VfePEt+6a2nSMPDajltTmgdATohNnZCAAEEogoQoKPysBEBBBDIfoFsCdBn9jhWXnn0Y9ErvcFLugO03hb8yqMfiQ7ilciit5bf3P/8iIN1RatTR93ue+VroqHUadEr3dfcf7bTpnzr3ho4UaZO/iXfel1R2MwN/cDLl0nFKv+Oyp1IgNar5U/e8Y65jdr5qrPjwc3KJkfVl59nLHLcHClAv2a+0ND5rxNZTu56lJx5ybGOu/5p7nwYeO97Ua/4O+5oVpYpX0rueOqCEMdIZWNZT4CORYkyCCCAQHwCBOj4vCiNAAIIZJ1ANgTokqWLm+C8V/SqYviSzgCtwbX/jcOt23nD2xXPe70qeV2/rlGvejrV9/OMxTK434dOm6y69LZ3+xlzx0JBK/VqaqQArcUOblrbupXe3iXeAK1Xup+7733R58zdXJwCtD6v/8IDzi6xHltvC9e6w5cBt40MPD4Qvi2W93obvX5hUqRokViKRy1DgI7Kw0YEEEAgIQECdEJs7IQAAghkj0A2BOhovZHOAD3wnvciDlpmt1kHlNq5fXfU52S1bJcLjjG3Kh9t7xbTzw+Hfi2TRs90LHtMhyZy4XUnO25zY2W8AXrKxJ/k7ecnuXHokDqcAvTgfmMiXrGuawYc0y8sdNC7n2cuki0bt4fUZ7/Rcrc98R/7rfXzzwUr5Ylb3w5ZZ7/RkcoPMQOf6YBk+qjB4l9XRBykrXffs+TQFvXsXRP+SYBOmI4dEUAAgYgCBOiINGxAAAEEckOAAP1PP7s9iNgfPy+Tp+8e5fgh0quLHc1twDpwlP3s8Yol60QD70/TnW9F1gD28JCeUrRY7Fcmh5hnfGd+/atjGzQ8a4hO1RJvgNaBztQg0qKjgx91wiHWCNx79+yzRljXc9uzO/9dB8F1OAXoe6941RoBPbicvtaR3K97sGtgtY5CPuTJ8fLD178F1tkvdLC3/m9dHTKFV7TRzm969Hw58NCa9u7WoGWP3TxC9Db78KXd6c3k3Cvbha+O+z0BOm4ydkAAAQQKFCBAF0hEAQQQQCC7BbItQBcxz+NWMqNK6z+9tVtHmD7n8uOtTvRyFO5hZtqo782I206LDgzWtuPh+TbpbcyDH/ww4pRgOlCXDtgV6/LUne/Kwnl/Oxa/6ZHz5EAzsnSqlngCtI6A/ai51T3Sold7L7vlFNHnwYMXnRrq9SfGiY7CHWlxCtA3n/+c4zPKnbu1ktMuaBNSlU5vpbfhOz0ecPENnaxB2OwdJn0wUz5842v7beCnfmHyxIhe+UbZfvelz+X7z/J/RqodUFHufPrCwP6JviBAJyrHfggggEBkAQJ0ZBu2IIAAAjkhkE0BWq8idz6vVcQBt7wK0DoF1O0XDHYcOKxm3cpy96CLI362/vp9pTx+i/NtwDri9BW3d4m4b/iGPmYAsfWrN4evtt4/OvQqKVuhtOM2N1bGE6DHvv2djB851fGweuW5zws9Is6N/fefa6X/TcNlnzF3WpwCtI7YrfuFL8XNsc657Dhp2a6x6HHjXWabEb1f7f+x426Nj6wrZ5mBxwqaa9xx5wRXEqAThGM3BBBAIIoAAToKDpsQQACBXBDIlgDdsl0j6XFT56hd5lWA1quW9/V83bEth5kRo6PdOr3b3JL8hrlt2Gmpc1B1uf3J7k6bHNfdf/UQWbNio+O2fq9d4dpoz04HiCdA6/nO+Mr5VvNTu7eWU818z9GWkS9Olm/Gz3Es4hSgo5XXSnQ+Zr06f4gZGK1xs7oxh971azbL/Ve/4Xi12m5c1ZoVzK3idaSR+ae3jJcq7Tx9mF0+mZ8E6GT02BcBBBBwFiBAO7uwFgEEEMgZgWwJ0Pe/dFm+W3zDO9GrAK23Tevt024vesVYrxzHuuh0SgvmLnUsrs/6aoBL1RJPgI7Wzt73mQG1jqwXtZlTP58nbz0zwbGMU4DWabIe6PVGyHzhjjv//0qdo7lZm4Ok1YmHio6SHW0Z/fpXMnnMD9GKBLbp9F/6XHSL4w6Rlic0Suiqd6AyhxcEaAcUViGAAAJJChCgkwRkdwQQQCDTBbIhQBcrXlSeevdaMeM6RV28CtA66NTrA8ZFbUsiG/X8Bn1wY4Hnadf9pgmV00y4dFq69Wovx3Vu6rTJlXXxBOh+vYfKymXrHY8b0xcjZu5lnT7KaXEK0FpOb+HWK99//7nGaTfHdep/ohn47cyL20acZkoHBfvk3anyyTtTHQcIc6zYrNTnuy8zz7gXFNAj7e+0ngDtpMI6BBBAIDkBAnRyfuyNAAIIZLxANgTo6mbQJX1OtqAlaoA+9Qg5/+oTo1bxyPXDIgaugaOvFx3ATJe50xbKSw//L2pdiWzUW4v1i4JYl4+GfysT3p3mWLxp6wPlqrtOd9zmxsp4ArQ+w7x04WrHw+pgWrUaVHXcZq/UuaOf7fu+/TbkZ6QArYV0BO8xb34jX479MeIz1CGV/f+bOgdVM8+inyaVq5dz2myt08/aWwMnRvxiwGlH/fyccUlbOemsFk6b415HgI6bjB0QQACBAgUI0AUSUQABBBDIboFsCNDBcz1H663FCVypDK7vjotelK2bdwSvCrwODtBL/lglOkWR09LIzAXc8PBaTpsKXFe8eDE58YzmBZazCyycv1yeuuMd+22+nzc8fK4153G+DQ4r1pnnuie8N91hyz+rjm5/qDRotH9gezwBOtq8zLGMPP7V+B/l3Rc/Dxw7+EW0AG2X22b69Mepf1ijn+sczZH62C6vPw8yz0jfaEYyL2jRK9w/zVhkTU+modpp2qrwOq5/qKscfHjyt9cToMNleY8AAggkL0CATt6QGhBAAIGMFsilAL16+QZ54L9vOPZXjdqV5N7nLnHcpis1VGmAjrQEB+jNG7fJXZe87Fj0qOMPkUvNlExeLdHmV67VoJrc9kS3iLcjB7fxuftGy/zZfwWvCrzWK+MPvd5TSpf5d0CseAL0iOcnybcTfwrUF/wilgA86N735be5S4J3C7yOZf9AYfNCpxLTL0DmzV4sP3yzwJqvOXh78Ot4voDQ/TSoz//xLytQ64jdu3bsDq4u8Fq/YLnhoXMD7xN9QYBOVI79EEAAgcgCBOjINmxBAAEEckIglwK0Bpabuz0fsV+jDVj1v7emyMQoV2CDA7QeINII2GXKl5K+L1waEjbtBuWZ9Dbti3nWrcX2uuCfDRrVlP3rVA5eVeDrzz6cKR8MyT83sb1j7QOriV7l1dGhnZbdu/bIsEGfysyvnUfJ1n2OO6WpdPtv+5Dd4wnQ3376k4x4blLI/sFvevU5S5ocVS94VeD1jC/nyxtPfRJ4H/4iPEDrVWAdRMxpaWJGSC9arEjIpmjPs3e94oTAHQHbt+2U38yt5E5L5erl892Gvm3LTnmx34eidwmELzoy9xNv9wpfHfd7AnTcZOyAAAIIFChAgC6QiAIIIIBAdgvkUoDWnryrx8uyecM2x06tWLWsNc9yvYNrhGzXUZ7fNldJ9ZnZSEt4gJ4wappoiHRadETnS28+JV9YGz3EjOD8YeQRnPUKuV4pj2fRq54PXfeWbFrvHBq1Lp3zuJ25NbyumSartrkqXbpsSVm7cpPMm7VYvhr3o/U60jF1YK17n+8h+hx68BJPgNY2ar/o/NlOiw4Sd9alx8kJZp5ve9EvGz4dPUPGDv8u4n5aNjxAfzj0a5k0eqZdTcjPnneeZpUPXqm3XOudB9u37gxebb3W2+k1ROuyY/suua37YHMF21zCDlv0Ge47nrow3+Bv2tfa506LBuhkp7giQDvJsg4BBBBIToAAnZwfeyOAAAIZL5BrAfodM2fw1xHmDNbOLFy4kBxinlOuWaeK7Ny5W/5asFL++n1lgf0cHqA3rNkifXu+FvGZVw2cbTsdboJnJVm5dJ38am5B/tk8Kxtp0eeLb36sW6TNUdfrc73P9h3tGO6i7hjDxkjzb8cToPUwLz40xnpOONohNdhrwM8zoVZvs9arvgUt4QF6jnnW+eVHPnLcTe8O6HZ1ezm0RT3rSwUN9F98NCviFfyzLzsuZMCvaIOhtT7pUKusfQfBhrVb5Jm7RznO061faDz5zjWObYxnJQE6Hi3KIoAAArEJEKBjc6IUAgggkLUCuRag//jlb3n6LvfnaA4P0PqBGfv2dzJ+5NSkPzs6X/BtT/xH9HbrRJdxI7+XcW9/n+jujvtp0Lz67tMdn6GON0DrYFuP3TQi6tVkx0YUsDI8QOsV5UdvGCbL/1obcU+9jVsHplu+ZF3E55R155sePd+ax9muKNrt3nYZna5K+3NVhGm7tJzOz63zdCe7EKCTFWR/BBBAIL8AATq/CWsQQACBnBLItQCtnfv6E+PMAFG/udrPTgFaw5pOr7Rg7tKEj6W3SJ/Z4zjpcHZyUxvprcXvv/aVdUU14cYE7agDXfXue5bo7dVOS7wBWusYb+ZOHjviO6fqoq7TuwYijW4dHqC1Ip326vkHPohr6qrwBhxoRuG+yWEU7kF9zIBm5op/Msv1/cwo3E0ZhTsZQ/ZFAAEEUiVAgE6VLPUigAACGSKQiwFaR9TW223Xr94ccy+d3PUo6xbrv/90vnLpFKC18i0bt1uBPdIo0dEaoKNaX3xDJzm8VYNoxeLapqM/Dxs0UXZs2xXXfsGFmx59oPS4ubN1m3Pw+uDXiQRovWVa2zb9i/nBVUV9XbZ8aTnn8uNl6NPOA4k5BWitcNaUBTLkyfEJhegKlctYU1jp1eTwZacZqO75+z+QhfP+Dt8U03v9nJ15ybExlS2oEFegCxJiOwIIIBC/AAE6fjP2QAABBLJKIBcDtHagTjX16mNj5Y+fl0XtzyJFi0j33u2l9UlNrFt/ly1e41g+UoDWwnr1V6+ufmL+RbpSGl6pDmR2+W2nSqVq5cI3Jf1+zYqN8sm7U62r8Lt27om5Ph2l+tT/tJa6DasXuE8iAdquVG99VyuH8bjsItZPDbDX3H+2FYL7XfNmyDb7TaQArdv1dv5Rr3wuSxeutosX+FOfRdcvNSKNWq4VqKn6Th7zQ9SB54IPVtw896y2yd5pEFwnATpYg9cIIICAOwIEaHccqQUBBBDIWIFcDdDaYfvMFc/Z3/4uX0+YI7//tCxkkC2d21ivtJ54uhmd+v9H5dZnZxMJ0PaHQ6dPmvr5L/L9Z784PgOrtyIf1KSWNGt7kLTteLgUMc/KpnLRQbimm2mgZpn5jjVUb1y3JRDwC5l7xyuZUcmr7F9Bqpkprlq3PzTgEEubkgnQWr8+Izz5fz/I1MnzRKfSCl7KlCslR51wiHTs2lLKVdzPGoQtkQCtdeqXG3o7v16Z/2XmYtEryOGLhttGR9SRlic0kuZtG4ZvjvheTb/77GeZO3Wh6DPeTouOqn5YywbS7rRmole23VwI0G5qUhcCCCDwjwABmk8CAgggkOMCXgToTCDW24d15Owtm7ZL2fKlpLwJM6kMsBrU9BZyHY1Zw2r5SvtJhSplpGSp4mnj0qvjG017NLBWrl7OcXAwrxunbVq/ZrOsNWFUzPPgFSqVkcrmynMq+mbvnr3mWFusac70Nv9SpYtLmQqlpbK5CyB8fuh4HfRzpVOJ6RRq+lnTW8+1z/ULgFQtBOhUyVIvAgjksgABOpd7n3NHAAEEjAABmo8BAtkpQIDOzn7lrBBAIL0CBOj0+nN0BBBAIO0CBOi0dwENQCAlAgTolLBSKQII5LgAATrHPwCcPgIIIECA5jOAQHYKEKCzs185KwQQSK8AATq9/hwdAQQQSLsAATrtXUADEEiJAAE6JaxUigACOS5AgM7xDwCnjwACCGzYslqGT34ECAQQyDKBA/c/Qjq3vDTLzorTQQABBNIrQIBOrz9HRwABBNIusGvPDnll3F1pbwcNQAABdwWa1j9Ojjv8HHcrpTYEEEAgxwUI0Dn+AeD0EUAAARUYOvEB2bJjAxgIIJBFAsc37SqH1zs2i86IU0EAAQTSL0CATn8f0AIEEEAg7QLjpw+RhcvnpL0dNAABBNwTOPe4G6V6xbruVUhNCCCAAAJCgOZDgAACCCAgPy2eIl/OeQ8JBBDIEoFSJcrK5Z0ezJKz4TQQQAAB/wgQoP3TF7QEAQQQSJvAtp2bZciEvmk7PgdGAAF3BfTWbb2FmwUBBBBAwF0BArS7ntSGAAIIZKzApB+Gy69LZ2Rs+2k4Agj8K3D+CTdL1fK1/13BKwQQQAABVwQI0K4wUgkCCCCQ+QLMB535fcgZIKACDQ84Ujq2uBgMBBBAAIEUCBCgU4BKlQgggECmCnzz04fy48IvM7X5tBsBBKSQXNj+TqlQphoWCCCAAAIpECBApwCVKhFAAIHMFciTd754UtZsWpa5p0DLEchhAZ33Wed/ZkEAAQQQSI0AATo1rtSKAAIIZKyA3so9+ptnZc/eXRl7DjQcgVwUaFK3jbQ74rxcPHXOGQEEEPBMgADtGTUHQgABBDJH4M9V8+Tj71/OnAbTUgRyXOCgms2k01E9clyB00cAAQRSL0CATr0xR0AAAQQyUuCvVfNlwoyhsmvPjoxsP41GIFcEGtVuKSc1vyBXTpfzRAABBNIqQIBOKz8HRwABBPwtsHbzcvl89juycv2f/m4orUMgRwVaNeosLQ/ulKNnz2kjgAAC3gsQoL0354gIIIBAxglMnT9eZvw2MePaTYMRyFaBGhXrSevGXeSAKgdl6ylyXggggIAvBQjQvuwWGoUAAgj4T2DTtrUyZ+FXMu+vadzW7b/uoUU5IrB/pfrSpF4bOaTWUTlyxpwmAggg4C8BArS/+oPWIIAAAr4XyMvLk0Urf5JlqxfIqg1LZOPW1bJ911bft5sGIpBpAkUKF5UypSpI5bL7S43K9aVOtUbW60w7D9qLAAIIZJMAATqbepNzQQABBNIksC9vH9Nepcmew2anQOFChaVokeLZeXKcFQIIIJDBAgToDO48mo4AAggggAACCCCAAAIIIOCdAAHaO2uOhAACCCCAAAIIIIAAAgggkMECBOgM7jyajgACCCCAAAIIIIAAAggg4J0AAdo7a46EAAIIIIAAAggggAACCCCQwQIE6AzuPJqOAAIIIIAAAggggAACCCDgnQAB2jtrjoQAAggggAACCCCAAAIIIJDBAgToDO48mo4AAggggAACCCCAAAIIIOCdAAHaO2uOhAACCCCAAAIIIIAAAgggkMECBOgM7jyajgACCCCAAAIIIIAAAggg4J0AAdo7a46EAAIIIIAAAggggAACCCCQwQIE6AzuPJqOAAIIIIAAAggggAACCCDgnQAB2jtrjoQAAggggAACCCCAAAIIIJDBAgToDO48mo4AAggggAACCCCAAAIIIOCdAAHaO2uOhAACCCCAAAIIIIAAAgggkMECBOgM7jyajgACCCCAAAIIIIAAAggg4J0AAdo7a46EAAIIIIAAAggggAACCCCQwQIE6AzuPJqOAAIIIIAAAggggAACCCDgnQAB2jtrjoQAAggggAACCCCAAAIIIJDBAgToDO48mo4AAggggAACCCCAAAIIIOCdAAHaO2uOhAACCCCAAAIIIIAAAgggkMECBOgM7jyajgACCCCAAAIIIIAAAggg4J0AAdo7a46EAAIIIIAAAggggAACCCCQwQIE6AzuPJqOAAIIIIAAAggggAACCCDgnQAB2jtrjoQAAggggAACCCCAAAIIIJDBAgToDO48mo4AAggggAACCCCAAAIIIOCdAAHaO2uOhAACCPheIC8vT+bMmSOHHXaYFClSJKH2/vrrr1KzZk0pW7ZsQvuzEwII+FNg1apVsnPnTqldu7Y/G0irEEAAAQ8ECNAeIHMIBBBAIFMEunTpIuPGjZPWrVvLd999F3ezn3jiCbn99tulXLlysmDBAqlWrVrcdbADAgj4T2DKlCnSvn172bt3r/zvf/+TU0891X+NpEUIIICABwIEaA+QOQQCCOSWwJIlS6R///6OJ12jRg058MAD5fDDD7f+ORZK08rdu3dL+fLlZfv27dbV57Vr11rv7ebMmjVLli9fLhUrVpRjjjnGXh3ys0OHDvLZZ59Z6z766CM57bTTQrbzBoF0CPz111/y4IMPWofu3r27nHTSSVGboXdi9OzZ0ypz4YUXyoknnhi1fKZvVJ+ffvrJOo1Iwfihhx6SPn36WGVuueUWGTBgQKafNu1HAAEEEhIgQCfExk4IIIBAZIEffvhBWrRoEbnA/285++yzRa/YaqD2y/LYY4/J008/LZdffrk88sgjIc3q1q2bvPvuu3LsscfK119/HbLNfvPJJ59Ir169pFGjRvLhhx9KiRIl7E38RCBtAsG/k/p4wc8//ywVKlSI2J59+/YFHmF4/vnnpXfv3hHLZsOGwYMHB85xz549gXMPPrc///xTzj//fNm2bZu88847cuihhwZv5jUCCCCQMwIE6Jzpak4UAQS8Egj+Y12v1DRo0CBwaH2GUP94/+CDD6xbIfWKtD5zXLVq1UAZv76IJUD7te20K7cFgn8nVeLSSy+VIUOGREQhQBeJaMMGBBBAINcFCNC5/gng/BFAwHWB4D/W9bnBNm3a5DvG3LlzrfVbtmyRc889V0aNGpWvjN9WEKD91iO0J1aB4N9Jex991v+UU06x34b8JEAToEM+ELxBAAEEggQI0EEYvEQAAQTcEAj+Yz1SgNbj3HfffdZzmaVKlZLNmzdHvG3yjTfekBkzZog+W12mTBmpW7eunHnmmXLWWWdJ8eLFozZ57Nix8s0334i2SZ9p1qvh+vzyf//7X9Hjhi/PPvus/Pjjj9btmTfffLO1WW/X/PTTT2Xy5MmyaNEiqV69esizzTqw0AUXXGCVnThxonWbt47g/dJLL4XsX6hQIdH6S5YsGX7YwPtNmzaJfVw9x9NPPz2wTV9osLGPsXDhQlm3bp014rc+U37ZZZdxW2mIFm9sgeDfyVatWsm0adOkVq1a1t0gOuBd+BJrgP77779Ffz+nTp1q/X7qIwt16tSxPrf6xVi0z7oe0x6Q67333hP9PO/atcvaX8cO0Ge1S5cuLfo7rHesFC1aVF588cXwplrvI9WjgwJqPfvtt59jPbNnz5bnnntO5s2bJ99++61Vl/4eFS5c2Hp9wAEHyAMPPGC9Dn6O/M4775SDDjpI7P21wPXXXy9Nmza1ykb6f/oMtY6joI943HrrrfmK6X97hg4davWLlqtUqZJ1HD0H/e+M/jeEBQEEEEi7gBkogwUBBBBAwEWBmTNn5pn/uFv/TICOWLN5RjhQzvwBm6+cefYyz/zBGChj12n/NM9O55k/avPtpyvMc4p5F198ccR9zXOgedOnT8+3rwms1j4nn3xyYNtNN90UsR5ty7XXXhso++STT1plixUrFlj35ZdfBvYfOXJkYL3Ti9dffz1Q1tzaHlLEfMmQ17Zt28B22yH4p/ljP2Qf3iCgAsG/kxMmTMirX7++9Tm68sorHYFMIA18zvT30Gkx4wHkmVAbKBf8OdTXegzz3LDTrta6jRs35rVs2TLi/o0bN84zITLPDN5llTHh3LGuguo55JBD8kzQd6xnzJgxEY+v52CmswscM9jQ/u+auYMmz0xXZ9VhvpQLlHV68fvvvweONWjQoHxFbrjhhsD2cEt9b+4WyNuxY0e+/ViBAAIIeC0gXh+Q4yGAAALZLuD0h6bTOQ8bNizwB+PSpUtDipirQoFtZrCePP3j0tzmnWcG+MozV57zzJUpa7v+kb548eKQffVNjx49rO36B76+1mPpH/wXXXRR4A9ec6Usz1yVDtnXKUB///33ea+++mreUUcdZdXZsGFD672u03/mylWgDqcArRsPPvhga1/9Izja0q5dO6vc0UcfHVJMvxA44YQTrG0azjW06/mYK+N5ZrCzPHs//UNbAwcLAsEC4b+TZqT4wJdT5o6G4KLW64ICtH75ZYdnc/dDnv6+mjs08t588808M4henrlyan1W9ffT6UuurVu35h133HFWGf3Mmqvieeaqbt7777+fZ+5MyTMD9eWZq8DW743Wp2WcAnSy9WjA199h/e+CHkP/vfzyy4Hf79GjRwdswg3tDVdddZW1nxmdP2rAvf/++61y5qp8nrlzxN7d+nnbbbcFjn/GGWfkmefT87744gvL1Vx9tiy0beaKep6ZhzpkX94ggAACXgsQoL0W53gIIJD1ApH+0Aw/cf3DUP8orFKlSsgmc+tz4I/Jrl275pnppUK26xu9AmRf+alXr551pcoupH9gmttSrTqcrrCZWyQD9esV3+DFKUDb280IvNZ++sd9pCVSgH788cetfc2t3SFtDa5Hvwiwr7i/8sorgU3mdtq8jh07WvtrMDHPjwe22S+0TPAf4S+88IK9iZ8IhFyBtq+eXn311dZnyjwSkWceHQhRihagNSibRyesfTXcOv1+/vLLL3m1a9e2yuidInr3hL3oZ7VTp07WNv3912DptLz22muB3wctFx6g3apHj62/L3oM/WdG4XZqjqOhFjS3wwf21S/5Ii3qoPWbacFCijz88MOB/fWLPqfF3OJunb/ub8ZicCrCOgQQQMAzAQK0Z9QcCAEEckWgoACtV4369u0b+KNRr6Dai4ZfDdT6h6KZqzbPPBNpb8r30zzbHLgyc++99wa2L1u2LFD38OHDA+vtF/oHsgZzM2dz3sCBA+3V1s9UBeiVK1fm6ZVjPS8N2U6Lfauqec47JHAE3wKuf0hHW/TqlR5DQ5GGIBYEVMDpd1JDs96FoZ8XDcLBS7QAbeaEtvZp3rx51N9P89y1VU7r1zBsL1999VVgvd5ZEm3RO050f/0XHqDdqkePn0yA1v3Ns89WG/W/H06L/rfKPg+9smwv+t9C/X3XbcGPgtjbg38+9dRTVjn9kk1vB2dBAAEE0iVAgE6XPMdFAIGsFQj+Y/2II46wbtXU2zX1nz6PqLcw2n9M6rPGwVd8gp+Lfuuttwo00vq1Lg0CwYt9u7X+kR/tOczgffR1qgK01q2hXduqbXZa1Ea3h181N3PwWuv16rNedYu2BAeBWbNmRSvKthwSCP6dtK9A6+mbecutz5aGMr2ybC+RAvSKFSsCV4WfeeYZu3jEn2bAPat+MyBeoIz9edbPutPjF4GC5oV+gWYG+7PqCA/QbtWjxwv+vQn+71FwWyIZahkzOKDVRr2tXb8sC1/sq/36+Efwoo9hqIP+MwOSBW/K91qv6ttl9YsFFgQQQCBdAozCbf5rzIIAAgi4KRA84q9TvTpCtY5ga64ai7mdMWRk2f79+8tdd91l7Wausoi57dGpisA6c9VGzCBH1nvznHBgZG1zK6Q1160JAtYIvOecc47oP3PraKBMoJKgF+YKrnz00Udigr012nXQJollGitzlUh07mtztdkaUTh4fxNWAtMG6ei9JkgHNuuoyOa5Z+u9jmisIyXbi7l92xoFvEmTJmJu07ZXO/40gUTMLbHWNh25WEcqZ0Eg+HfSBOiQqeWuuOIKMY8yWCPU65zsOmK1+aImMCq+/n6ZsGoh6kjVZiA76/U999wjJhBGxTVBzxrVXj/r+pnXRX+3Jk2aZI0CriPrF7SY5/vF3IUhJkCLGUQrUNyterTCwYMHB87RBOjAuQcOZl5EM9ywYYPsv//+VvvMFwtirqwHdjV31YjOd69lHnvsMbn99tsD28zdN6KOJniLefY6MPp3oEDYC509QA20fj0OCwIIIJAWgXQld46LAAIIZKtA8JUaHcFXb7XUf19//XXeb7/9FvW2z+uuu866ylKhQoWYeHSwHfM/Hta/8Nsa9Zj2c4d2GRMO8vRZZvMHvGP9qbwCrVf17FtmzVRVIce/5pprrHPQAZnCF11ntz+enzqgEwsCKhD8Oxl8BVq3mWCXp6PS62dLf/90iXQFWgf5iuczaJc108dZ9er/05GtdX3wVenARocXZronq3z4FWi36tFDJnsFWuuwByI78sgj9W1g0eei9Xz1EQ69gh+82P+9s51i/Xn55ZcHV8NrBBBAwFMBrkCb/1qzIIAAAm4KRLtSU9BxzLPR0q9fP+uqtM5xbIJ01F3s8lpI53nWeVPDFzNdleg8s2bKGvn111+tzeaWVTHTU4kZ3CvkalMqr0DrgXVOWb1CrHNJm5HHrStPZhAm6+qVtt9MbyPmj+qQUzC3vltzWZsRja2rdyEbo7zRq1XmFvYoJdiUKwIF/U5+/PHH1tzN+nuhV3v1KrPeKaJL8BVoM3q3mLEDrPU6z7PT75u1Mez/6XzK+ruqy/HHHy/myzTRucv1indBix7HBPd8V6DdqkePn+wVaK1D3fRquS5moD8xAd96bf83Re+A0fMIXnReaDP2gXVuZraA4E1RX+uc0HpHDAsCCCCQFgFP4zoHQwABBHJAINrVroJOX0efNv9jYP3T+WoLWuwBjXRE7liW+fPnW88Y28cYO3ZsyG6pvAKtB9IpfXR6Hj2+fWz7uW+n6W10nwsuuMAqb27h1rcsCMQtEMvvpH0FVZ/T1VGz7d8RvYvEXvQOEnt9tBGn7fJOP3UUaq1Dfw/06ndBi7n92SoffgXarXr0+G5cgdZ61E7PTUfE12XVqlWBwQPHjRtnrQv+fzpllu2pZVkQQACBTBBgELFM6CXaiAACGSUQyx/rkU5I54O2A6bOCxtt0blU7fmgL7744kDRhQsX5pkratY/pyl2tKDOx6x/uF5yySWB/fRFqgO0HsM+tj0djbkyZbVFg7LToiOJa1t1oKeCBkTTgdd0hHNzFZ9RuJ0wc3RdLL+TOie6PeiXjo5tB7vgAK18dkg0z05H1dTfZf0s6j99nMJe3n777UDdI0aMsFc7/pwxY0agbHiAdqsePbBbAdo842y1V2+J18HIzB0l1nud0ktviw9fgr9QK+iRCx3J2/Z0mls7vG7eI4AAAqkSIECnSpZ6EUAgZwVi+WM9Go4dKHXO5EjTNml41mcN9Y98HfnWDLwVqDJ4Xtbx48cH1tsvdCRrHZ1b99XnoYOXaAHaHklXQ0ak0bAjzQMdfAz7OVK94qxh355T9/PPPw8uFnhtBkfLs6/CmdtWHf8Q18J6hUtDtp6XuR00sD8vEIj1d3L06NHW58f+Eks/S+EBOng6pYkTJzri6hdXOl+67q91BY9PoJ9n+5lrHZPADEzmWIfuYwbmsurQesIDtFv16MGDw7iOdu20xGKozzjb09XpCOf2bAD33XefU5XWOnvquapVq+b9/fffjuXMYGuB6f30efJII4U77sxKBBBAwGUBArTLoFSHAAIIxPKHZjQlvX20TZs21h/O+seoGZnbmuJFr+DoH5h61apZs2aB7U4h++CDD7a2a9h94403AoP36B+i5jnkwB/l4fNERwvQAwYMCOz38MMPW6FA59I1o+IGTieWAK1T89hX+sxo21adZlTyiKFcKzfPiuZVrlzZKtu6dWvrCwM7xC9atCjPPMMZ2F6xYkVrsLZAo3iR8wLx/E7qnREaWO1/4QFaMe0vk3SKKZ2/XH8PdNHfhU8//dT6Ysre32l+Y/OMcJ5Oy6ZldMBAnZZJ1+miwfmll16y5jLXL5fMc8VWufAArWV1H/28F1SP/ndEp9HTck71BF/p7t69e54ZN8E6py1btuhhrCVWQ/sLQPt3W79AiHbnyMaNG/Natmxpta1WrVp5OrWVGbnbOqZ+UfjOO+/ktWjRwtquX5DpdhYEEEAgnQIE6HTqc2wEEMhKgVj/0Ix28vpHpZnWyfqj0f5DXK9W2a/1p/5xrc8POy36B7EZdCtQXv/w1Nsog/fXKz9bt24N2T1agF6zZk0gpAbXExwQYgnQekAzlU1IW/RLgoIWMxCUFTbsY6uHPaq3va58+fJ5egWeBYFggXh+J/VZXL0aan+mnAK0fnlz6aWXBsro75d+Fu1HKux99blqp1uXtW3fffddXvjvdPB7/f02U8pZAV3rcwq+Wo9ewQ4/bng9ZgDBAuuxg7rddv2pI33bS6yGeidIcB2dO3e2q4j4U4Oy/aWg7qt31eiV5uA7AdT4xRdfjFgHGxBAAAGvBAjQXklzHAQQyBmBWP/QLAhEBxi6++67Q27j1D8u9WrS2WefnafPBEZb1q9fn6fPaeofovrHp+6rf5A2atTI+mPavoIbXEe0AK3l9PZOMyqwFRbsP24TCdDBgzHpH8vLly8PbkbE13olWp+V1jAR/Ee6XsXT6X5WrlwZcV825K5AvL+TI0eODHy+nAK0Smow1ivH+vsU/FnU3wv98kvHISho0S97dDor+3fJrkcfVZg8ebK1u17h1vWRArQW0kc49HfXqR4zcnhM9egz4DfeeGOe3r1iP1aRSIBWl+Av65zukLEaFPb/9As6/R2uUqVKiKeet/43R3/3WRBAAAE/CDCNlflfJRYEEEDAzwLmfyzEPFsoy5Yts6a1Mn+cWtO+xNNmc4upmOeNxdwqLWXKlIlnV1+WNbeBW9NgmStXUrduXTFXDH3ZThqVGwI6BZsZ2ErMlWDR6dZMAI3rxLdv3y7mUQTRz7V+ns1t2YH97733XjGPTIgZaV/09zjaYp6LlsWLF4tODWeuiIfUE20/P20zX+yJ+ULN+letWjUxt3WL+WLAT02kLQggkOMCBOgc/wBw+ggggAACCCDgXwEz0J+YKbOkcePGYu4A8W9DaRkCCCCQIwIE6BzpaE4TAQQQQAABBNIvoFdYzS3eondP9OzZU8x0dREbpVemzbRZ1t0nZt5nGTZsWMSybEAAAQQQ8EaAAO2NM0dBAAEEEEAAAQQsATOKt7z88svWbdlm+jYxo0w7ytx2221iRr+3tplnmaV9+/aO5ViJAAIIIOCdAAHaO2uOhAACCCCAAAIIiBlET9q2bStm4CwrRJtR6cWM6m0972vmOJZ58+aJmW5OzJzpltb9998vZi5l5BBAAAEEfCBAgPZBJ9AEBBBAAAEEEMgtATMtm3Ts2FF0ADJ7MfNKixnF2hpMzF5HeLYl+IkAAgj4Q4AA7Y9+oBUIIIAAAgggkGMCmzdvFjO3sXU7t47CreHZXtq0aSO9e/cWffaZBQEEEEDAPwIEaP/0BS1BAAEEEEAAgRwV0KmnlixZIjrImE7dVLJkyRyV4LQRQAABfwsQoP3dP7QOAQQQQAABBBBAAAEEEEDAJwIEaJ90BM1AAAEEEEAAAQQQQAABBBDwtwAB2t/9Q+sQQAABBBBAAAEEEEAAAQR8IkCA9klH0AwEEEAAAQQQQAABBBBAAAF/CxCg/d0/tA4BBBBAAAEEEEAAAQQQQMAnAgRon3QEzUAAAQQQQAABBBBAAAEEEPC3AAHa3/1D6xBAAAEEEEAAAQQQQAABBHwiQID2SUfQDAQQQAABBBBAAAEEEEAAAX8LEKD93T+0DgEEEEAAAQQQQAABBBBAwCcCBGifdATNQAABBBBAAAEEEEAAAQQQ8LcAAdrf/UPrEEAAAQQQQAABBBBAAAEEfCJAgPZJR9AMBBBAAAEEEEAAAQQQQAABfwsQoP3dP7QOAV8LfD13tK/bR+MQQCC/QOmyTaVMqQr5N7AGAQR8K1CuZAnZv3xZ37aPhiGQSwIE6Fzqbc4VAZcFhn/2iGzYutrlWqkOAQRSKXBkk2tl6+5CqTwEdSOAgMsCTfavSoB22ZTqEEhUgACdqBz7IYCAEKD5ECCQeQIE6MzrM1qMAAGazwAC/hEgQPunL2gJAhknQIDOuC6jwQgIAZoPAQKZJ0CAzrw+o8XZK0CAzt6+5cwQSLkAATrlxBwAAdcFCNCuk1IhAikXIECnnJgDIBCzAAE6ZioKIoBAuAABOlyE9wj4X4AA7f8+ooUIhAsQoMNFeI9A+gQI0Omz58gIZLwAATrju5ATyEEBAnQOdjqnnPECBOiM70JOIIsECNBZ1JmcCgJeCxCgvRbneAgkL0CATt6QGhDwWoAA7bU4x0MgsgABOrINWxBAoAABAnQBQGxGwIcCBGgfdgpNQqAAAQJ0AUBsRsBDAQK0h9gcCoFsEyBAZ1uPcj65IECAzoVe5hyzTYAAnW09yvlksgABOpN7j7YjkGYBAnSaO4DDI5CAAAE6ATR2QSDNAgToNHcAh0cgSIAAHYTBSwQQiE+AAB2fF6UR8IMAAdoPvUAbEIhPgAAdnxelEUilAAE6lbrUjUCWCxCgs7yDOb2sFCBAZ2W3clJZLkCAzvIO5vQySoAAnVHdRWMR8JcAAdpf/UFrEIhFgAAdixJlEPCXAAHaX/1Ba3JbgACd2/3P2SOQlAABOik+dkYgLQIE6LSwc1AEkhIgQCfFx84IuCpAgHaVk8oQyC0BAnRu9Tdnmx0CBOjs6EfOIrcECNC51d+crb8FCND+7h9ah4CvBQjQvu4eGoeAowAB2pGFlQj4WoAA7evuoXE5JkCAzrEO53QRcFOAAO2mJnUh4I0AAdobZ46CgJsCBGg3NakLgeQECNDJ+bE3AjktQIDO6e7n5DNUgACdoR1Hs3NagACd093PyftMgADtsw6hOQhkkgABOpN6i7Yi8I8AAZpPAgKZJ0CAzrw+o8XZK0CAzt6+5cwQSLkAATrlxBwAAdcFCNCuk1IhAikXIECnnJgDIBCzAAE6ZioKIoBAuAABOlyE9wj4X4AA7f8+ooUIhAsQoMNFeI9A+gQI0Omz58gIZLwAATrju5ATyEEBAnQOdjqnnPECBOiM70JOIIsECNBZ1JmcCgJeCxCgvRbneAgkL0CATt6QGhDwWoAA7bU4x0MgsgABOrINWxBAoAABAnQBQGxGwIcCBGgfdgpNQqAAAQJ0AUBsRsBDAQK0h9gcCoFsEyBAZ1uPcj65IECAzoVe5hyzTYAAnW09yvlksgABOpN7j7YjkGYBAnSaO4DDI5CAAAE6ATR2QSDNAgToNHcAh0cgSIAAHYTBSwQQiE+AAB2fF6UR8IMAAdoPvUAbEIhPgAAdnxelEUilAAE6lbrUjUCWCxCgs7yDOb2sFCBAZ2W3clJZLkCAzvIO5vQySoAAnVHdRWMR8JcAAdpf/UFrEIhFgAAdixJlEPCXAAHaX/1Ba3JbgACd2/3P2SOQlAABOik+dkYgLQIE6LSwc1AEkhIgQCfFx84IuCpAgHaVk8oQyC0BAnRu9Tdnmx0CBOjs6EfOIrcECNC51d+crb8FCND+7h9ah4CvBQjQvu4eGoeAowAB2pGFlQj4WoAA7evuoXE5JkCAzrEO53QRcFOAAO2mJnUh4I1A8ybXyrbdhbw5GEdBAAFXBAjQrjBSCQKuCBCgXWGkEgRyU4AAnZv9zllntgABOrP7j9bnpgABOjf7nbP2pwAB2p/9QqsQyAgBAnRGdBONRCBEgAAdwsEbBDJCgACdEd1EI3NEgACdIx3NaSKQCgECdCpUqROB1AoQoFPrS+0IpEKAAJ0KVepEIDEBAnRibuyFAAJGgADNxwCBzBMgQGden9FiBAjQfAYQ8I8AAdo/fUFLEMg4AQJ0xnUZDUZACNB8CBDIPAECdOb1GS3OXgECdPb2LWeGQMoFCNApJ+YACLguQIB2nZQKEUi5AAE65cQcAIGYBQjQMVNREAEEwgUI0OEivEfA/wIEaP/3ES1EIFyAAB0uwnsE0idAgE6fPUdGIOMFCNAZ34WcQA4KEKBzsNM55YwXIEBnfBdyAlkkQIDOos7kVBDwWoAA7bU4x0MgeQECdPKG1ICA1wIEaK/FOR4CkQUI0JFt2IIAAgUIEKALAGIzAj4UIED7sFNoEgIFCBCgCwBiMwIeChCgPcTmUAhkmwABOtt6lPPJBQECdC70MueYbQIE6GzrUc4nkwUI0Jnce7QdgTQLEKDT3AEcHoEEBAjQCaCxCwJpFiBAp7kDODwCQQIE6CAMXiKAQHwCBOj4vCiNgB8ECNB+6AXagEB8AgTo+LwojUAqBQjQqdSlbgSyXIAAneUdzOllpQABOiu7lZPKcgECdJZ3MKeXUQIE6IzqruQbu3PPHtmxe6/s3bdP8sz/+WkpJIWkaJHCUqJoEfOvqJ+aRlsi/BYXbQAANGhJREFUCBCgI8CwGgEfCxCgfdw5NA2BCAIE6AgwrEYgDQIE6DSge3nIXXv2ysrNW2Xt1m2ycfsO2b13n5eHT/hYGqTLlywhFUuXkmpl95PSxYslXBc7pk6AAJ06W2pGIFUCBOhUyVIvAqkTIECnzpaaEYhXgAAdr1iGlN+6a7f8uW6D/L1hc4a0OHozq5QpLbUrlpfK+5WKXpCtngoQoD3l5mAIuCJAgHaFkUoQ8FSAAO0pNwdDIKoAAToqT2ZuXLhmvei/bFyqlysjDatWkpLFuMXbD/1LgPZDL9AGBOITIEDH50VpBPwgQID2Qy/QBgT+ESBAZ9EnYcfuPfLL8tWybtv2LDqr/Keit3cfWqOqdWt3/q2s8VKAAO2lNsdCwB0BArQ7jtSCgJcCBGgvtTkWAtEFCNDRfTJm6+Ydu2TOshWy3YToXFkOqV7F3NZdLldO15fnSYD2ZbfQKASiChCgo/KwEQFfChCgfdktNCpHBQjQWdDxW3fukh+WLJedZsCwXFsamRBdixCdtm4nQKeNngMjkLAAATphOnZEIG0CBOi00XNgBPIJEKDzkWTWin15eTJt8TLZYkJ0ri5H1KohVc0gYyzeCxCgvTfniAgkK0CATlaQ/RHwXoAA7b05R0QgkgABOpJMhqz/2TzzvHxjdoy0nSh5cTNvdOt6tUR/sngrQID21pujIeCGAAHaDUXqQMBbAQK0t94cDYFoAgToaDo+37bKzO88Z9lKn7fSm+btX76s6P+4sHgrQID21pujIeCGAAHaDUXqQMBbAQK0t94cDYFoAgToaDo+3zZ10VLZnMO3bod3z1F1a0qFUiXDV/M+hQIE6BTiUjUCKRIgQKcIlmoRSKEAATqFuFSNQJwCBOg4wfxSfKW5+jyXq88h3VHDzBF9WM1qIet4k1oBAnRqfakdgVQIEKBToUqdCKRWgACdWl9qRyAeAQJ0PFo+Kjt76QpZs2Wbj1rkj6Yc37CuFC/Cs9Be9QYB2itpjoOAewIEaPcsqQkBrwQI0F5JcxwEChYgQBds5LsSe/btky9+W+y7dvmhQY1rVJUDKpT1Q1Nyog0E6JzoZk4yywQI0FnWoZxOTggQoHOimznJDBEgQGdIRwU3c/WWrfLjUgYPCzaxX3Mbty3hzU8CtDfOHAUBNwUI0G5qUhcC3ggQoL1x5igIxCJAgI5FyWdl/lizXhaZfyz5BUoXLyZtGtTOv4E1KREgQKeElUoRSKkAATqlvFSOQEoECNApYaVSBBISIEAnxJbeneb+vUpWbtqS3kb4+OgnNWoghXzcvmxqGgE6m3qTc8kVAQJ0rvQ055lNAgTobOpNziXTBQjQGdiDM/78WzZs35GBLfemycceVEdKFi3qzcFy/CgE6Bz/AHD6GSlAgM7IbqPROS5AgM7xDwCn7ysBArSvuiO2xnxv5n/ekub5nzdt2CCzp34nx3c6xbHRc6ZPld/n/SIrly2TKtWrS+MjmsthLY5yLOv2ymPq15L9ShR3u1rqcxAgQDugsAoBnwsQoH3eQTQPAQcBArQDCqsQSJMAATpN8Mkc9tuFS2Tbrt3JVJHwvlMmTZSRr7wov/40V4oXLyEfz/oppK4VS5fI43fdLnNnTAtZr28Ob9FSbn3kcalZp06+bW6uaG0CdBkCtJukEesiQEekYQMCvhUgQPu2a2gYAhEFCNARadiAgOcCBGjPyZM/YDquQO/bu1def+ZJeefVlwInUKJkqZAAvWf3brm++7my4OfQUB3YwbzQq9EDho6QA+rWC17t6msCtKucUSsjQEflYSMCvhQgQPuyW2gUAlEFCNBRediIgKcCBGhPud05WDoC9GN33CqT/vdByAmEB+iXHntE3nvjtZAyTm+aND9SnhkxymmTK+sI0K4wxlQJATomJgoh4CsBArSvuoPGIBCTAAE6JiYKIeCJAAHaE2Z3D+J1gJ4/Z7Zc161rvpMIDtC/zp1jypwjeXl5+co5rejz9LNyfOdTnTYlvS4bA/Qff/whH330kSxevFg2b94sHTt2lG7dusmSJUukZs2aUqRIkaTdEqmAAJ2IGvsgkF4BAnR6/Tk6AokIEKATUWMfBFIjQIBOjWtKa/U6QN98cXfHZ5qDA/Sz/e6X/414K+bzbnNSB3nguX9vB495xxgKZlOA3rVrl1x88cUyatSokC8nrrrqKnnppZfkvvvuk2HDhkn//v3lvPPOi0HH3SIEaHc9qQ0BLwQI0F4ocwwE3BUgQLvrSW0IJCNAgE5GL037ehmg//rjd7nitE6OZ1qmbDn5YNosa1u344+RdatX5SunZbZs3pRvfclSpWX09zOlWHH3R8vOlgC9c+dO6dq1q4wdOzbgV7JkSdmxY4cEB+gHH3xQChUqJIMHD5arr746UNaLFwRoL5Q5BgLuChCg3fWkNgS8ECBAe6HMMRCITYAAHZuTr0p5GaC/mzxJ+l6TP5S1O6WLXHnL7VL9gFqycP48ufrs0/IZ3fPUIDm+Y2cZ/eYQeenxR/Ntf33cp1K7foN865NdkQ0BWm+F79Kli4wfP15KlCghjz76qHTu3FmmTZsml156aSBAT5kyRc466yxZs2aNFaLnzJkjhx12WLKEMe9PgI6ZioII+EaAAO2brqAhCMQsQICOmYqCCKRcgACdcmL3D+BlgH5/6OvyYv+HQ06ifKVKMurrqVKocGFr/TuvvSyvDngspEyDRo3lpQ8+ttbt2bNHzm7VXHZs3xZS5qlhI62prUJWuvAmGwL0Z599Jh06dJDCxvjdd9+1rkQrzdChQ0MCtK5bunSpFaJnzpwp5557rnW7t673YiFAe6HMMRBwV4AA7a4ntSHghQAB2gtljoFAbAIE6NicfFXKywDt9Gxzx7POkdsefSJgclfPy2TGN18F3uuLy2+8Rbpf3Tuw7trzzxYdaCx46Tf4FWndrn3wKldeZ0OAvvLKK+W1116T7t27y4gRIwIuTgFaN2rI1kHF9Gr1tm3brOAd2CmFLwjQKcSlagRSJECAThEs1SKQQgECdApxqRqBOAUI0HGC+aG4lwF60IN95aO3h4ecdrcrrpIrb73DWrfdhLXz2raSnTu2h5R54b0x0rDJP7cSa5mux7SQ3WZArOBl4NvvyaHNmgevcuV1NgTodu3ayZdffinPPfecXHPNNQGXSAF6/fr1UqVKFdm3b5/8+eefUqdOncA+qXxBgE6lLnUjkBoBAnRqXKkVgVQKEKBTqUvdCMQnQICOz8sXpb0M0G8+N1Deen5QyHk3anqEPPvOaGvdxyNHyMAH+oRsL1ehgrz37QzrmVzd8NWE8dLvxmtDyuibNyd+IfvXrp1vfbIrsiFAN23aVObOnStffPGFnHDCCQGSSAFaCxx44IGycOFCmT59uhx11FGBfVL5ggCdSl3qRiA1AgTo1LhSKwKpFCBAp1KXuhGIT4AAHZ+XL0p7GaDHjRopT/e9J995N2/dRg5t3lzef2NIvmebj+90ivR55jnrivO0r76Qp++7RzauWxdSR6nSOgr3D1K0WLGQ9W68yYYA3alTJ5k4caIMGTLEeubZdokUoHW6q/3220/0eXN9JvqAAw6wd0npTwJ0SnmpHIGUCBCgU8JKpQikVIAAnVJeKkcgLgECdFxc/ijsZYBeuWypXNTh3yugsQjc/NCjckrX82XKpIly/3W9HHexQ7bjxiRXZkOAvvnmm+Xpp5+WM844Q8aMGRMQiRSgdZ7o888/37qNe+XKlTwDHRDjBQIIhAsQoMNFeI+A/wUI0P7vI1qYOwIE6Azsay8DtPLoFFU6VVUsS5EiReTdb6aJ3sYdLUDf/eRAOfHU/FNfxXKMgspkQ4D+8ccfpVmzZtapDhs2TC688ELrtVOAXr58ubRq1cq68nzrrbfKE0/8O8BbQVbJbucKdLKC7I+A9wIEaO/NOSICyQoQoJMVZH8E3BMgQLtn6VlNXgfobz+bJPddm38uaKcTPueSy6TXXfdamyIF6AMbHSqD3x8TmAbLqZ5k1mVDgNbzv/HGG2XgwIEWxbXXXis6MvcPP/wgl19+uTUP9EMPPSSffPKJ3HLLLbJ69WorcE+aNEkqV66cDF9c+xKg4+KiMAK+ECBA+6IbaAQCcQkQoOPiojACKRUgQKeUNzWVex2g9Sz0VmwNxNGW+gcfIs+P+lCKFS9uFXMK0HqFesDQEXJYi9QNcpUtAVoR77jjDnn88ccD7EWLFrWecy5ZsqTs2LEjsL5ly5YyYcIEqVixYmCdFy8I0F4ocwwE3BUgQLvrSW0IeCFAgPZCmWMgEJsAATo2J1+VSkeA3rN7tzx6+83y1SfjHC1KliptRuZ+X+o1PDiwPTxAa3i+e8AzcnznUwNlUvEimwK0+jz88MPSv39/2bJlSz6uwoULy2mnnSZvvfWWlCtXLt/2VK8gQKdamPoRcF+AAO2+KTUikGoBAnSqhakfgdgFCNCxW/mmZDoCtH3y07/+Sj4cNlQW/TZfNm3YaE1DpVeTL+p1rVSuVt0uZv0MDtD1Dmoove/pKzp6d6qXbAvQ6rXNzKU9duxYWbBggaxYsULKly9vzfXcuXNnqZ2CqcBi7SMCdKxSlEPAPwIEaP/0BS1BIFYBAnSsUpRDIPUCBOjUG7t+hHQG6HhOZt6Ps+SbTydIk+ZHSet2J0phcwXaiyUbArROR6W3a/t9IUD7vYdoHwL5BQjQ+U1Yg4DfBQjQfu8h2pdLAgToDOztTAnQ6aLNhgDdq1cva2AwHTisY8eOnk1LFW+fEaDjFaM8AukXIECnvw9oAQLxChCg4xWjPAKpEyBAp842ZTUToKPTZkOA1uD82muvWSdap04da+RtHX07nbdrO6kToJ1UWIeAvwUI0P7uH1qHgJMAAdpJhXUIpEeAAJ0e96SO6pcAvX7tGqlYuYrjuezcsV2WLl4kK5f9LVWqV5c6Bx4oOtCYF0s2BOjhw4fLPffcI3/++WeATAcM69SpkzWd1emnny7FihULbEvXCwJ0uuQ5LgKJCxCgE7djTwTSJUCATpc8x0UgvwABOr+J79ekM0CvWLpEPh45QqZ/85UsM+Hu41k/hXjtNFMrjXzlRRn1+quiIdpeSpcpI+dcfKn856peUsJMwZTKJRsCtPrk5eXJV199JW+++aa89957smnTpgBbdfOlRI8ePaww3bBhw8B6r18QoL0W53gIJC9AgE7ekBoQ8FqAAO21OMdDILIAATqyjW+3pCtAT/vqC3n01ptky+Z/glyJkqXyBej+d9win/3vw4h2zY5uLf0Gv5LSq9HZEqCDEbdv3y5jxoyxwvTEiRNl7969gc0nnHCCFaTPPfdc0fmhvVwI0F5qcywE3BEgQLvjSC0IeClAgPZSm2MhEF2AAB3dx5db0xGgP3hrqAx+tJ91VdRGCQ/Qn475QB6/81Z7c8SfHc86R2579ImI25PdkI0BOthEp7EaMWKENffz7NmzA5sqVqwoF154oTz77LOBdal+QYBOtTD1I+C+AAHafVNqRCDVAgToVAtTPwKxCxCgY7fyTUmvA/RqE9gu7dxedu3cGWIQHKBXLf9brjytk2w38xUXtBQqVEiefWe0HHJ404KKJrQ92wN0MMrcuXOtq9L6zPTy5cutTXrrt1cLAdoraY6DgHsCBGj3LKkJAa8ECNBeSXMcBAoWIEAXbOS7El4H6Cfuvl0mfvB+PofgAD1s8HMydNDT+cpEWtG563lyy0P9I21Oan0uBeh58+ZZAXrYsGGydOlSy40AndTHh50RyHoBAnTWdzEnmIUCBOgs7FROKWMFCNAZ2HVeBug1K1fKBe2Plbx9+/JJBQfonmecIosX/JavTKQVlapUlZFffSd6NdrtJdsD9Nq1a+Xtt9+2gvP06dMDfPr8c9euXUXDtFcLV6C9kuY4CLgnQIB2z5KaEPBKgADtlTTHQaBgAQJ0wUa+K+FlgJ757Tdy5xU98hlUP6CWXHnL7dLulC6yesVyueDEY/OVOfPCS6TTOedao3J/9cm4fNvf+vQLqVGrdr71ya7IxgC9a9cuGTt2rBWa9efu3bsDTE2bNrUGEbvoootEn4P2ciFAe6nNsRBwR4AA7Y4jtSDgpQAB2kttjoVAdAECdHQfX271MkDrlFUDH+gT4qDTUI2aMl1Klf5nXudxo0bK033vCSlTuVp1GTH5aylcpIhs27JFzm59pOwLGjlaCz/7zvvSqGmzkP3ceJNNAXratGlWaB45cqTolWd7KWOmBevevbsVnFu1amWv9vwnAdpzcg6IQNICBOikCakAAc8FCNCek3NABCIKEKAj0vh3g5cB+uUn+ps5nV8JwWjdrr01FZW98uGbr5cvxo+131o/u/a4XP5757+hunfXM2TBLz+HlHnoxVfl6BNODFnnxptsCNCjRo2Svn37yvz580NIjj76aOnZs6d069ZNNESneyFAp7sHOD4C8QsQoOM3Yw8E0i1AgE53D3B8BP4VIED/a5Exr7wM0E/1uVvGv/dOiM1Fva6VHtffZK3Tq8rdTjhGNgRdHdUN/V8bKi3a/HNbt5Y5t20r2bxxQ0g9T745Qpq2PDpknRtvsiFAX3nllfLaa69ZHJUqVZKLL77Yutp82GGHuUHkWh0EaNcoqQgBzwQI0J5RcyAEXBMgQLtGSUUIJC1AgE6a0PsKvAzQrz89QN5+eXDISbZoe5z0f/UNa930r7+Su6+6LGS7Di42+vuZUrxECWv9nOlT5ZZLLggpo29eH/ep1K7fIN/6ZFdkQ4DWq8x//PGHdbX5nHPOkRL/b5msjdv7E6DdFqU+BFIvQIBOvTFHQMBtAQK026LUh0DiAgToxO3StqeXAfqDt4bKC488GHKuxYoXlwv/e60c2ry5PHPfPfL3X3+FbD+mfQd58PmXrHV6ZbpP76tk/pzZIWWKmGejP5g2O/AcdcjGJN9kQ4DeZubTLv3/z5gnyZHS3QnQKeWlcgRSIkCATgkrlSKQUgECdEp5qRyBuAQI0HFx+aOwlwF6wc8/Se9zz4zrxG984GHpcv5/5IfvpsjdPS+TvWGDh2llR7Q6WgYMHRFXvbEWzoYAHeu5prscATrdPcDxEYhfgAAdvxl7IJBuAQJ0unuA4yPwrwAB+l+LjHnlZYBWlO7t2ojOBx3r8vYX30qV6tVlyqSJcv91vRx363XXvXLOJaG3fjsWTGBlpgXocePGyeTJk+Xyyy+XQw891DpjvX17ZRzmwUxt2rQJfpvS1wTolPJSOQIpESBAp4SVShFIqQABOqW8VI5AXAIE6Li4/FHY6wD9zmsvy6sDHovp5Fsed7w88vIQq2ykAF2xchV545PPpHSKRpHOpAC9ZMkSqV+/vnWVXgcImzt3rmUXPIhYTPBBhfLy8oLepfYlATq1vtSOQCoECNCpUKVOBFIrQIBOrS+1IxCPAAE6Hi2flPU6QO/Zs0euPquL/PXH71EFylWoIC+PGSc6B7QukQL0LQ/1l85dz4taVzIbMylAr1q1SmrXri27du0Snc956tSp1qkToJP5BLAvAghEEyBAR9NhGwL+FCBA+7NfaFVuChCgM7DfvQ7QSrRq+d9y5xU9ZMmihRHF7hv0ghx7cqfAdqcAffYll0rvu/oEyqTiRSYFaD3/KVOmyOeff25NVVW3bl2L5C8zMNuaNWsS4jnyyCMT2i+RnbgCnYga+yCQXgECdHr9OToCiQgQoBNRYx8EUiNAgE6Na0prTUeA1hPSeZzfefVl+WjkcNm2ZUvgHGs3OFB63nK76OjbwUtwgNYprbpf1Usu6n1dcJGUvM60AJ0SBI8qJUB7BM1hEHBRgADtIiZVIeCRAAHaI2gOg0AMAgToGJD8ViRdAdp22GdG1V6xbJkVqPevXUf01m2n5fsvJsuwF56VJs1byDk9LpPqNQ9wKub6umwI0Fu3bpUdO3ZIGfOceCxzQOtzz+vWrbMsK1eu7LpppAoJ0JFkWI+AfwUI0P7rG/2C+uuJnyTcsE7nnCc6PaQuEz8cLXt274paV9FixaVCpcrmkauqUvegg6Vo0aJRy7Mx/QIE6PT3AS1AwBYgQNsSGfQz3QHa71TZEKDtZ6BfffVVueKKKwok37x5s5QrV84qxyBiBXJRAIGcFiBA+6/7F/463xprJNGW/W/mXClVurS1+9lHHylbNm2Muaqy5SvIsR06yvlXXiW16tWPeT8KeitAgPbWm6MhEE2AAB1Nx6fbCNDROyYXA/SGDRukYsWKFgwBOvrng60I5LoAAdp/n4B0Bmhbo0TJknL17XfL6d0vtFfx00cCBGgfdQZNyXkBAnQGfgQI0NE7LRcD9MSJE6VTp05StmxZ2bRpU3QgF7dyC7eLmFSFgEcCBGiPoOM4jB8CtN3cu58cKCeeepr9lp8+ESBA+6QjaAYCRoAAnYEfAy8DtA4WtmLZ0pQoNTikUUrqzcQAvXbtWpk9e3bA48knn5Tx48fLLbfcIqecckpgvdOL3377TV555RWZNWuWHHHEESH1OJV3cx0B2k3N5Orasmm7/Pj9H8lVYvYuXryotGz3z+/mts07ZNZ30aev0wOWKFFUylbYTypWKSPVDvjnToikG0IFKRMgQKeMNuGK/RSgS5YqLW9/8Y2UKVc+4fNhR/cFCNDum1IjAokKEKATlUvjfl4G6OCRtN0+5U/nJf/HvlObMjFAjxs3Trp06eJ0OnGtGzRokFx3XepHOrcbRYC2JdL/86/fV8njt4xIuiHlK+0nDw/padWzbPEaefSGYXHVWaVGeWlx/CHS4ewW5pnMEnHtS2FvBAjQ3jjHc5RIAfq0bt3lzIt6FFhVXTMbRqHCha1yTs9AN2jUWG59qH+gnvXmS9u5M6bJB2+9ITvNgJXhS++7+8rZFxd83PD9eJ86AQJ06mypGYF4BQjQ8Yr5oDwBOnon5GKA1lu39Wr1Pffc4+loqgTo6J9FL7f6JUDb51yxSlm59ObOcmATb0bft4/Lz4IFCNAFG3ldIlKAvuC/18hlN9wcV3OcAnSTI1vIM8PfzVfP0GefsWbLCN9w9AknykMvvhq+mvdpFCBApxGfQyMQJkCADgPJhLcE6Oi9lIkBeou5VX7JkiWBE+vTp4+8//770q9fP+natWtgvdMLHTysRo0aTptSvo4AnXLimA/gtwCtDS9ZurjcNqC7VOe27pj70YuCBGgvlOM7RroC9N9//SU9Op2Yr7H1Dz5EXh4zLt96VqRPgACdPnuOjEC4AAE6XCQD3hOgo3dSJgbo8DOKdxqr8P29ek+A9kq64OP4MUBrq+s32l9ueaxbwSdACc8ECNCeUcd8oHQF6C2bN8l5bVrKnj17Qtp6QN168sYnn4Ws4016BQjQ6fXn6AgECxCggzUy5DUBOnpHZUOA3mGeSdu1a5eUKlVKihUrFv2E07iVAJ1G/LBD7961R9ascJ779eHr3gorLdLw8Fpy/lX5rzwVKVI4MBBYpGegj+nQRI475Qirzrx9+2T92i0ya8oCmfn1r/mOoyvueuZCOaB+VcdtrPRegADtvXlBR0xXgP74nbdl4P335mte89Zt5PEh+f+7ka8gKzwTIEB7Rs2BEChQgABdIJH/ChCgo/dJNgTo6Gfon60EaP/0RbSWXHvmM/k2H96qgVx9zxn51geviBSgO53fSk6/sE1wUev1M3ePkt9/XpZv/dmXHScnndUi33pWpEeAAJ0e92hHjRSgS5UuLaX2K+O467EdOsp1fR/Ity2WZ6D37N4tP82cIU/2uUtWLP338SG7skuuvUEuvuZ6+y0/fSBAgPZBJ9AEBP5fgACdgR8FLwP0/Dk/yvtvvGYprVi2TObP+XeqJZtOR/6sXvMAqV2/vmzftk2WLFooG9etszcHfhYuUkTannSyFDE/dbnnqUGBbW6+yLQAvWrVKpk2bZqcfPLJZjqgzBq1mADt5ic3dXV5FaC/++xnGT7o03wncsJpzeS8nu3yrWdFegQI0Olxj3bUSAE62j7tTztD7nri6XxFnAK0/u9ucBDfumWz6N0jTov+b/WwSV9K1Rr7O21mXZoECNBpguewCDgIEKAdUPy+yssAbVvodBf3X9dLNm3YYK+yfp546mny3zvvkUpVq4Ws1/KDHugri39fELK+y/n/kRsfeDhkndtvMilAb968WWrVqiWbNm2Szp07W3M/q8fVV18tQ4YMSYhGb/32aiFAeyWd3HG8CtA/z1gsg/t9mK+xbTsdJt17d8i3nhXpESBAp8c92lFTHaCjHTt8W89b75Tzr/hnKrvwbbxPnwABOn32HBmBcAECdLhIBrz3OkCvXrFCrjrzVNmyKfT5yot6Xyc9rrsxopjeInb9f7rKgl9+DilzUa9rpcf1N4Wsc/NNJgXo3377TQ455BDr9OvVqyeLFi2yXtuDiCXikpeXl8huCe1DgE6IzfOdvArQQwaMd3wO+jRzu3dnc9s3iz8ECND+6IfgVvghQBcqVEjOueQy60vx4Lbx2h8CBGh/9AOtQEAFCNAZ+DnwOkDfd+3V8u1nk0KkGjRqLC+8NyZwO3bIxqA3Sxb+IVec3jnfrWJ9nnlOju90SlBJ915mUoDWs37iiSdkwoQJcuutt1pXoXXdp59+KnPnztWXcS833xzfnKFxHyBoBwJ0EIaPX6Y6QO/YvktmfbtA3n3xc9HBzMKXGx4+VxoeVit8Ne/TJECAThN8lMNGCtCHNmsuhx/l/OXTgY0PFb0LLHxxuoU7vEz4+8ZHNLeeeW553PHhm3jvEwECtE86gmYgYAQI0Bn4MfAyQK9dtVIuaH+c7Nu7N0Sq+1W95PKbbg1ZF+nN5aeebD0XHbxd/yB46q23g1e59jrTArRrJ56GigjQaUBP4JBuB+hixYtKseL/jGWwb1+e7NgW+bEBnQO6zws9Emg1u6RKgACdKtnE640UoC/47zVy2Q3xfSnqFKArVq4ibU769zGKosWKS6UqVazHr5q2bCU169RNvPHs6YkAAdoTZg6CQEwCBOiYmPxVyMsAHWmKi9v7D5CTzzw7JhinK9h6q9ioKdOlfMWKMdURTyECdDxayZUlQCfn59XebgfoWNutU2Lp1ecGjWvGugvlPBAgQHuAHOchUh2gmxzZQp4Z/m6craK4nwQI0H7qDdqS6wIE6Az8BHgZoF9/eoC8/fLgfEoFPf8cvENPcwt3+GBiul1vAW/Y5LDgoq68zsYAvcEM3lahQoV8PvrMtM4Z3bhx43zbvFhBgPZCOfljpCNAFy9ZTC64poMcdfw/z/gnfxbU4JYAAdotSffqIUC7Z5mtNRGgs7VnOa9MFCBAZ2CveRmgn7r3Lhn/fv5vrfV5qYFvjxK9khxtWblsqVzSqX2+W8B1n4dfek1aHd8u2u4JbcumAD1gwAB59tln5eCDD7aei7ZBZs6cKb169ZLp06dbqxo2bCjPPPOMnHrqqXYRT34SoD1hTvogXgboIkWLSJMW9eSsHsdKNXP7Nov/BAjQ/usTArT/+sRvLSJA+61HaE8uCxCgM7D3vQzQbwx6SoYPft5RqffdfeXsiyM/26jPTd98SXf5+YeZjvsPHv2RHGQGQXF7yZYArVNZvfzyyxZPhw4dAgFap7xq3ry5LFy4MISuXLlyMnXqVGnUqFHI+lS+IUCnUte9ut0O0LUaVJO6DasHGljCXG0uV3E/qViljDRuVldKly0Z2MYL/wkQoP3XJwRo//WJ31pEgPZbj9CeXBYgQGdg73sZoCeMfk8G3HOHo1LhIkXk7It6yCVmKqvS++0XUub3eb/Isw/2lV9mzwpZH/zmw2mzZb+yZYNXufI6GwL0jBkzpFWrVqJTUunV5ccee0zOPvufZ84ffPBBue+++6ROnToyatQoWb58udx9993yyy+/yMknnywTJ050xTGWSgjQsSilv4zbAbqTmZLqdDM1FUtmChCg/ddvBGj/9YnfWkSA9luP0J5cFiBAZ2Dvexmgl/25WC47pYMV5CJRaXiuc2BDqVWvvmzbutmMuL1Ili5elG/qquD9dRqslz74OHiVa6+zIUD37t1bBg8eLEceeaRMmzYtZLqwww8/XH766ScZPny4XHDBBZbbl19+Ke3atbOek163bl2Bt9a7hU2AdksytfUQoFPrm2m1E6D912MEaP/1id9aRID2W4/QnlwWIEBnYO97GaCVp0+vnvL9F5NdlYpnFO94D5wNAVqvJE+aNEn69esn9957b4Dg119/tW7RLl26tKxdu1ZKlvznVtndu3dL5cqVZfPmzfL777/LgQceGNgnlS8I0KnUda9uArR7ltlQEwHaf71IgPZfn/itRQRov/UI7cllAQJ0Bva+1wH651k/yM0X/8dxILBE+A6oW09e/XiCFC1aNJHdC9wnGwJ0ixYt5IcffrBux9YwbS+PPvqodbv2GWecIWPGjLFXy17zvHnVqlVl/fr1oiFbBx3zYiFAe6Gc/DEI0MkbZlMNBGj/9SYB2n994rcWEaD91iO0J5cFCNAZ2PteB2gl+nDYm/L8ww8krVW2fAUZNPI963bvpCuLUEE2BOhLL71Uhg4dKvq8c58+fQJnqoOHzZ49W9544w3p0ePfAdy+/fZbadu2rZQpU0Y2btwohQsXDuyTyhcE6FTqulc3Ado9y2yoiQCdDb3IOeSaAAE613qc8/WzAAHaz70ToW3pCNDalCEDn5K3X3oh6vPQEZpsrS5fqZLcP2iwHNbiqGjFkt6WDQF60KBBcsMNN0iTJk3ko48+kvr168tzzz0n1113nRQrVkxWrlwpFSv+M0WQDjSmgfvNN9+0QvQ333yTtGGsFRCgY5VKbzkCdHr9/XZ0ArTfeoT2IFCwAAG6YCNKIOCVAAHaK2kXj5OuAK2nMHfGNHni7ttl+ZIlcZ1Ru1O6yLV9HpDy/x/64to5zsLZEKD//vtvadasmaxevdoKzPXq1ZMFCxZYEjr/8wsvvGC9njdvnlx++eXy/fffW+9Hjx4dGK07TraEihOgE2LzfCcCtOfkvj4gAdrX3UPjEHAUIEA7srASgbQIEKDTwp7cQdMZoLXlu3bulO8mT5LPx30s0776Qnbv2uV4QlVr1JATTjlN2nc5XRo2OcyxTCpWZkOAVpfJkydLx44dreebbScdgVtH5bYHDxs3bpx06dLF2nzTTTfJU089ZRf15CcB2hPmpA9CgE6aMKsqIEBnVXdyMjkiQIDOkY7mNDNCgACdEd0U2sh0B+jg1uzcsUNWr1gu61avkrXmammJEiWlcrVq5l9162ehQoWCi3vyOlsCtGLpiNrvv/++LFy4UHTgsA4dOhjjEgFHnfN54MCBctFFF8l5552XsoHZAgcMe0GADgPhLQIZIECAzoBOookIhAkQoMNAeItAGgUI0GnET/TQfgrQiZ5DKvfLpgCdSic36iZAu6FIHQh4K0CA9taboyHghgAB2g1F6kDAHQECtDuOntZCgI7OTYCO7uPmVgK0m5rUhYA3AgRob5w5CgJuChCg3dSkLgSSEyBAJ+eXlr3dDtA7d2yP+BxzKk+wTLnyKak+WwP0okWL5P/YO/ugKq4zDr/M2DRYoWBsxRpAG+NXjGYiMFgjUdMOEUOcWjXWxqqDVAWJiiak1RpDdSSdaPEDBAoho1WDTUqlgh/REaUqSBmx1oozalIbO1FHR0SNRpRytr0OsOcu9+6ec3bvnd/OMPfe95zzvnue/ethd89paGggtsAYW4GbLSzGFhpTtWUV72JBoHlUEAMBZxOAQDv7+uDsQIBHAALNo4IYCNhDAAJtD3dLVUULdPY7S6l8x0eWzsnM4E/PnDczrNMx/ibQlZWV2l7QvO2pIiMjte2u2AJidhwQaDuooyYIWCMAgbbGD6NBwA4CEGg7qKMmCPAJQKD5XBwdhUAbXx5/Emi2SNiECRPobutibUZHeno6rVmzxqiLlDYItBSsSAoCUglAoKXiRXIQkEIAAi0FK5KCgCkCEGhT2OwdBIE25u8vAr1//35KTEzU5DkiIkLb33nkyJEUHR1N7HHuqqoq2rt3Lx09elQDkpGRQVlZWcZwBLdCoAUDRToQUEAAAq0AMkqAgGACEGjBQJEOBCwQgEBbgGfXUAi0MXl/EOjr169TeHg43blzhwYNGkQHDx6knj176ibe0tJCycnJVFRUpLVt3ryZpk+frusnKwCBlkUWeUFAHgEItDy2yAwCsghAoGWRRV4Q8J4ABNp7ZraPgEAbXwJ/EOj169dr7zaHhYVRfX09V55dFJhEsz2g2X7RsbGxdOzYMVeT9E8ItHTEKAACwglAoIUjRUIQkE4AAi0dMQqAgMcEINAeo3JORwi08bXwB4GeOHEilZaW0syZM6m4uNh4wq2tu3fvpoSEBK1fY2MjBQcHdzpGRAcItAiKyAECaglAoNXyRjUQEEEAAi2CInKAgBgCEGgxHJVmES3QJUUFdOzAp0rnwIplb/ujlJr+INBRUVFUV1enyTOT6M6OpqYmbWurBw8e0KlTp2jIkCGdDRHSDoEWghFJQEApAQi0UtwoBgJCCECghWBEEhAQQgACLQSj2iSiBVrt2cuv5g8CHRMTQ7W1tR4LNFulOyQkhO7du0cnTpzQ9oeWT5oIAq2CMmqAgFgCEGixPJENBFQQgECroIwaIOAZAQi0Z5wc1QsCbXw5/EGgJ02apL3T7Okj3IcOHaLRo0drYNgCZKGhocaQBLVCoAWBRBoQUEgAAq0QNkqBgCACEGhBIJEGBAQQgEALgKg6BQTamLg/CHReXh7NmzePPFlEjNFgK3EXFhbS0KFD6eTJk8aABLZCoAXCRCoQUEQAAq0INMqAgEACEGiBMJEKBCwSgEBbBGjHcAi0MXV/EGi2EFhkZCSxzwEDBtCBAweod+/e3IkvXLiQ1q1bp7Vt2rSJ5s6dy+0nIwiBlkEVOUFALgEItFy+yA4CMghAoGVQRU4QMEcAAm2Om62j7BDoi+fPUemWD6nf4CE0fspUw/l/8Lv3tfZXp02nHpy9iw0HC2j0B4FmGKqrqyk+Pp5u3rxJvXr10lbZHjFiBA0fPpwuXryotVdWVj7atiolJYU2btxIAQEBAih6lgIC7Rkn9AIBJxGAQDvpauBcQMAzAhBozzihFwioIACBVkFZcA2VAl1fU00lhflUd6SK2H7D8365jCb+fJbhjLLfWUrlOz6iLl26UNzLCTQ1eS717T/AcIzIRn8RaMaE7enMJJqtsm10pKWlEds7WvUBgVZNHPVAwDoBCLR1hsgAAqoJQKBVE0c9EHBPAALtno1jW1QJ9K6S7bT+3V9r4uyC4Y1Au8Z88/FAejcnj4b/4AVXSOqnPwk0A8W2s8rMzKTy8nJi21S1Pdjj3ampqcQE2o4DAm0HddQEAWsEINDW+GE0CNhBAAJtB3XUBAE+AQg0n4ujoyoE+uPiQsr/7WodBzMCzZJ847HHaHn2Rood85Iup+iAvwm0i8+1a9fo3LlzdOnSJW3LqoiICOrXr5+r2ZZPCLQt2FEUBCwRgEBbwofBIGALAQi0LdhRFAS4BCDQXCzODsoW6O35ufRB9houBLMCzZKxR7qXrl1PL/wonptbVNBfBVoUH5F5INAiaSIXCKghAIFWwxlVQEAkAQi0SJrIBQLWCECgrfGzZbRMgf7i888o6ZV4etjhUWHXRK0INMsR8sQT9If9h4g91i3r8HWBZttQVVRUaNtRBQUF0bBhw2jatGnUvXt3WchM54VAm0aHgSBgGwEItG3oURgETBOAQJtGh4EgIJwABFo4UvkJZQp01lvpdOAvO91OwqpAs8TJS96mKUnJbmtYbfBVgX748CGtWrVKe9+5ubm5HQa2CndxcbG2oFi7Bpt/QKBtvgAoDwImCECgTUDDEBCwmQAE2uYLgPIg0IYABLoNDF/5Kkug/33hPCUlvkwtrSLHO9h7zCs25FFM3Iu85kexnVs3U86qzHaLjz1qbP3y7dY7qewu9OOBXduGhX33VYEuKCigOXPmaBwCAwO1/Z9v3bpFFy5cICbXLHb27FkKDw8XxspqIgi0VYIYDwLqCUCg1TNHRRCwSgACbZUgxoOAOAIQaHEslWWSJdDvZSyh/WWl3Hk82acvZebkU/j3n+K2dwz+o+5vtDx1DjU13ujYpP325E42d6AHQV8UaLZNFVsQ7MqVK5SUlKRtSdW16//+wXDmzBmaPHkynT59WnuUe+vWrR5QUNMFAq2GM6qAgEgCEGiRNJELBNQQgECr4YwqIOAJAQi0J5Qc1keWQM+IH0v/ufgv3Wy7BQXThh1/IibR3hz11ccoY/YM7vvUL44bT8taFxSTcfiiQO/Zs4fGjRunSTQTZrbgWtujpqaGYmNjKTg4mBobG9s22fodAm0rfhQHAVMEINCmsGEQCNhKAAJtK34UB4F2BCDQ7XD4xg8ZAs32Fx4/bJBun2FG5PWUNJqRttAUnJXpb9Ch3eW6sU8PfoZyPynTxUUEfFGgc3JyaP78+bRgwQLKzs7mYggLC6PLly/T1atXqUePHtw+qoMQaNXEUQ8ErBOAQFtniAwgoJoABFo1cdQDAfcEINDu2Ti2RYZAszvP7A4079h28K/0nbBevKZOY3VHqujt2TN1/bp260Y7a0/q4iICvijQixcvprVr12p/ixYt4mKIiYmh2tpaOn78OEVHR3P7qA5CoFUTRz0QsE4AAm2dITKAgGoCEGjVxFEPBNwTgEC7Z+PYFhkCXVt1mH71i1m6OQe2vodbVndKF/c0cPXLL2namJHc7h8fqdUWFOM2Wgj6okCnpqZSbm4usTvRKSkp3NnHxcVRVVUVHT58mEaNGsXtozoIgVZNHPVAwDoBCLR1hsgAAqoJQKBVE0c9EHBPAALtno1jW2QINFs8jC0i1vFgd57ZHWizx92v7lDi889yhxfu2kuRT/XjtlkJQqCt0PNuLATaO17oDQJOIACBdsJVwDmAgHcEINDe8UJvEJBJAAItk66k3DIEmi349eas13VnHBAQQKU1J+hbQUG6Nk8CDX8/SWmvTeR2/fPxetN5uQn/H4RAG9ER2waBFssT2UBABQEItArKqAECYglAoMXyRDYQsEIAAm2Fnk1jZQi00TvQa7dsp2ejYkzNdlfJdlq3YpluLN6Bbo/E9Qj3wIED3e7zzN5/vnHjBkVFRVFoaGj7BG1+7du3r80vuV8h0HL5IjsIyCAAgZZBFTlBQC4BCLRcvsgOAt4QgEB7Q8shfWUI9P2vv6bxzw2mlpYW3SwTf/ozemN5pi7eWYDleqv1rnZ9TbWua5+n+9Pvy3br4iICvnwHWsT8eddQRF5eDgg0jwpiIOBsAhBoZ18fnB0I8AhAoHlUEAMBewhAoO3hbqmqDIFmJzT3x4l0vuGf3HPLzMmnEWN/yG1zFywpKqDC99/jNo/7yRRKX7ma22Y16IsCnZeXRxUVFVanro0vK5OzPRjv5CDQPCqIgYCzCUCgnX19cHYgwCMAgeZRQQwE7CEAgbaHu6WqsgS6bNsW2vCbFdxzCw4JocycAnrm+eHc9o7Bw3sqaPWbi6i5ubljk/Z7Q8knNHDoc9w2q0FfFGirc7ZrPATaLvKoCwLmCUCgzbPDSBCwiwAE2i7yqAsCegIQaD0Tx0dkCfTtpiZ6LW4E3bv7lVsGYxJeodlLMui7vb7H7XOh4QxtylrJfWzbNaBv/wFUsFPM3VZXzrafEOi2NOR+h0DL5YvsICCDAARaBlXkBAG5BCDQcvkiOwh4QwAC7Q0th/SVJdBsemzBL7bwl9HBVubu0bMn9e7Tl55s/Wu+f5+++Pwz7e/GtWtGQ7W2RZmrKGHy1E77me0AgTZLzvtxEGjvmWEECNhNAAJt9xVAfRDwngAE2ntmGAECsghAoGWRlZhXpkDfuX2bUidN0GRYxhRiR4+lzNwCYhIu64BAyyKrzwuB1jNBBAScTgAC7fQrhPMDAT0BCLSeCSIgYBeB/wIAAP//p5NDPgAAQABJREFU7d0J3NTj/v/xz92iRblbtC/E6ciSTpGULNlC0omOQomoFJHthDa04Ido0SJZEqVFihSSVEgOWY7KSQvtq1Tal99cc859u+ee7Tvzva7r+52Z1zwe53/PXN/r+lzX9bw6/8fvfWbmO1lHAw/hkVICC1etld37Dxhb86r//CTdWl8r+/ft0zpHhcpVZOTUd6XEcdla6+Yvdm6NqlKiyDH5m3ltQOCNjwfKjj+2GKhMSQQQMCVQ9/S7ZM/BLFPlqYsAAgYETq9UTipllzRQmZIIIJCoQBYBOlEy7/ubDtBqh/NmvS9PPfSAHNi/X8uGS5c9Xga8+LLUPO10LfViFSFAx9LRe40ArdeTagjYECBA21BmDgT0ChCg9XpSDQE3AgRoN3oejbURoNXW1DvR/e7tJmtWrnC107+d21Aefvo5KXN8OVd1nA4mQDuVct+PAO3ekAoI2BYgQNsWZz4E3AsQoN0bUgEBXQIEaF2SFuvYCtBqS/v27pHRTz8lH0ydEvhI996EdnlcqVLS6pbbpE3HOySrQIGExrrpTIB2o5fYWAJ0Yl70RsAPAgRoP5wCa0AgMQECdGJe9EbApAAB2qSuodo2A3TOFvbs3i1zZrwrs6ZMlJ9++D6nOeyvCsr1zm0kV7a6Xs679HIpVLhwWB/TDQRo08J/1idA/2nBMwRSRYAAnSonxToR+FOAAP2nBc8Q8FqAAO31CSQxvxcBOu8y1TvRmzdskC0bA/8J/C1YqKCUr1RZylVU/6noSWjOuz4CdF4Ns88J0GZ9qY6ACQECtAlVaiJgVoAAbdaX6ggkIkCATkTLJ329DtA+YYi6DAJ0VBrtFwjQ2kkpiIBxAQK0cWImQEC7AAFaOykFEUhagACdNJ13AwnQse0J0LF9dF4lQOvUpBYCdgQI0HacmQUBnQIEaJ2a1ELAnQAB2p2fJ6MJ0LHZCdCxfXReJUDr1KQWAnYECNB2nJkFAZ0CBGidmtRCwJ0AAdqdnyejCdCx2QnQsX10XiVA69SkFgJ2BAjQdpyZBQGdAgRonZrUQsCdAAHanZ8nownQsdkJ0LF9dF4lQOvUpBYCdgQI0HacmQUBnQIEaJ2a1ELAnQAB2p2fJ6MJ0LHZCdCxfXReJUDr1KQWAnYECNB2nJkFAZ0CBGidmtRCwJ0AAdqdnyejCdCx2QnQsX10XiVA69SkFgJ2BAjQdpyZBQGdAgRonZrUQsCdAAHanZ8nownQsdkJ0LF9dF4lQOvUpBYCdgQI0HacmQUBnQIEaJ2a1ELAnQAB2p2fJ6MJ0LHZCdCxfXReJUDr1KQWAnYECNB2nJkFAZ0CBGidmtRCwJ0AAdqdnyejCdCx2QnQsX10XiVA69SkFgJ2BAjQdpyZBQGdAgRonZrUQsCdAAHanZ8nownQsdkJ0LF9dF4lQOvUpBYCdgQI0HacmQUBnQIEaJ2a1ELAnQAB2p2fJ6N1B+itmzbJzh2/Wd/LSafUMjInAdoIa8SiBOiILDQi4GsBArSvj4fFIRBRgAAdkYVGBDwRIEB7wu5uUt0B+vm+PWXGxAnuFpXE6I+WrkhiVPwhBOj4Rrp6EKB1SVIHAXsCBGh71syEgC4BArQuSeog4F6AAO3e0HoFAnRscgJ0bB+dVwnQOjWphYAdAQK0HWdmQUCnAAFapya1EHAnQIB25+fJaAJ0bHYCdGwfnVcJ0Do1qYWAHQECtB1nZkFApwABWqcmtRBwJ0CAdufnyWgCdGx2AnRsH51XCdA6NamFgB0BArQdZ2ZBQKcAAVqnJrUQcCdAgHbn58loAnRsdgJ0bB+dVwnQOjWphYAdAQK0HWdmQUCnAAFapya1EHAnQIB25+fJaAJ0bHYCdGwfnVcJ0Do1qYWAHQECtB1nZkFApwABWqcmtRBwJ0CAdufnyWjdAfr9SRNk8Refx93LhrVr5Kcfvg/rl1WggFSoXEWq1aghe/fskTWrVsrv27eH9StYsKA0vPhSKVSoUPBaz0FDwvroaCBA61B0VoMA7cyJXgj4SYAA7afTYC0IOBMgQDtzohcCNgQI0DaUNc+hO0A7Wd5v27ZKt+uvlU3r14V0b3LV1XLHQz2lTLnyIe0//GuRDHmsj6z+eXlIe+2zz5FHh46Q40qVCmnX+YIArVMzdi0CdGwfriLgRwECtB9PhTUhEFuAAB3bh6sI2BQgQNvU1jSX7QC9f99eua/dDfKff/8QsoO2XbtJ+27dQ9ryvjh08KDc3eY6Wb7kx7zNUv/8C2TAqJclKysrpF3XCwK0Lsn4dQjQ8Y3ogYDfBAjQfjsR1oNAfAECdHwjeiBgS4AAbUta4zy2A/ST/7xPPn53WsgOTqp1qgyfPE3Ux7JjPdasXCG3Nb9Cjh45EtLtn08+I5e1aBnSpusFAVqXZPw6BOj4RvRAwG8CBGi/nQjrQSC+AAE6vhE9ELAlQIC2Ja1xHpsBese2bdLmwoZy+PDhkB3c0KmLdLj3gZC2aC86XHVZ8HvRea+fXreePP/mpLxN2p4ToLVRxi1EgI5LRAcEfCdAgPbdkbAgBOIKEKDjEtEBAWsCBGhr1PomshmgZ05+Swb1fiRs8Ym8g9z3rs7y+cezw2pMWrBISpUtG9butoEA7VbQ+XgCtHMreiLgFwECtF9OgnUg4FyAAO3cip4ImBYgQJsWNlDfZoB++blnZPyLI8J2Ee/7z3kHdAx8hDv/zcTU9WETp8optc/M21XLcwK0FkZHRQjQjpjohICvBAjQvjoOFoOAIwECtCMmOiFgRYAAbYVZ7yQ2A/SgXg/LzCkTwzZwap26Mnj8pLg3Atu0bq3c3PRiOZLvI+Cq4IBRY+ScCy4Kq+22gQDtVtD5eAK0cyt6IuAXAQK0X06CdSDgXIAA7dyKngiYFiBAmxY2UN9mgH51yCB5Y8QLEXfR9ZE+0rJd+4jXVKMKzffdfIP8+M3XEfuMnPqunFzrtIjX3DQSoN3oJTaWAJ2YF70R8IMAAdoPp8AaEEhMgACdmBe9ETApQIA2qWuots0A/cHbk+WZnj0i7qRA4A7cLdu2l5sDP2VV/NhjQ/r8vHSJDH28jyz5dnFIe94X0776ToqXKJG3SctzArQWRkdFCNCOmOiEgK8ECNC+Og4Wg4AjAQK0IyY6IWBFgABthVnvJDYD9LpfVsutV14qR48ejboJFZ6rn1xTqp5YQ/b8sStwx+1Vsnb1qrCfrspbQL3zrN6BNvEgQJtQjVyTAB3ZhVYE/CxAgPbz6bA2BCILEKAju9CKgBcCBGgv1F3OaTNAq6X27tJRFs6d43LVocMTuYt36Mj4rwjQ8Y109SBA65KkDgL2BAjQ9qyZCQFdAgRoXZLUQcC9AAHavaH1CrYD9I+Lv5H72rWJeCOwZDZf5YQT5aX3PpBChQolMzzuGAJ0XCJtHQjQ2igphIA1AQK0NWomQkCbAAFaGyWFEHAtQIB2TWi/gO0ArXb4zrix8sKAx1xvtmR2KRkyYXLw496ui0UpQICOAmOgmQBtAJWSCBgWIEAbBqY8AgYECNAGUCmJQJICBOgk4bwc5kWAVvt9ZfAgGT9qeMzvQ8dyyS5TRh4dMkLOOOvsWN1cXyNAuyZ0XIAA7ZiKjgj4RoAA7ZujYCEIOBYgQDumoiMCxgUI0MaJ9U/gVYBWO/nhX4vk6Uf+KRvWrEloYxdd2Uzu6v2YZJcundC4ZDoToJNRS24MATo5N0Yh4KUAAdpLfeZGIDkBAnRyboxCwIQAAdqEquGaXgZotbUD+/fLF3NmyyfvvyeL5s2VgwcORNxxuYoV5cIrr5aLmzWXmqefEbGPiUYCtAnVyDUJ0JFdaEXAzwIEaD+fDmtDILIAATqyC60IeCFAgPZC3eWcXgfovMvfv2+fbNm4QbZv2SzbtmyRIkWKStny5QP/qRD8m5WVlbe7lecEaCvMwUkI0PasmQkBXQIEaF2S1EHAngAB2p41MyEQT4AAHU/Ih9f9FKB9yCMEaHunQoC2Z81MCOgSIEDrkqQOAvYECND2rJkJgXgCBOh4Qj687qcAvfrn5bJp3VrZsmGD/LZtqxQpWkzqNmwkNU873TM5ArQ9egK0PWtmQkCXAAFalyR1ELAnQIC2Z81MCMQTIEDHE/Lhda8D9M4dO+TDqZNl5pRJ8uuKn8OEOnS/X27o3FU+mjZVvvz0E7my1fVyVqPGYf1MNRCgTcmG1yVAh5vQgoDfBQjQfj8h1odAuAABOtyEFgS8EiBAeyXvYl4vA/TXny+QJx68V37fvj3qDnIC9IyJE+T5vj2D/c679HK559F+Urrs8VHH6bpAgNYlGb8OATq+ET0Q8JsAAdpvJ8J6EIgvQICOb0QPBGwJEKBtSWucx6sA/dZLo2TMc8/I0SNHYu4mUoBWAypXry7DJ0+XY0uWjDne7UUCtFtB5+MJ0M6t6ImAXwQI0H45CdaBgHMBArRzK3oiYFqAAG1a2EB9LwL0wrlzpHeXjo52Ey1Aq8HnX36F9Bn8gqM6yXYiQCcrl/g4AnTiZoxAwGsBArTXJ8D8CCQuQIBO3IwRCJgSIECbkjVY13aA3rZ5k3RqcZWo7z47ecQK0Gp810f6SMt27Z2USqoPAToptqQGEaCTYmMQAp4KEKA95WdyBJISIEAnxcYgBIwIEKCNsJotajtAjxn0tEwYPdLxpuIF6EKFC8sLE6fKSbVOdVwzkY4E6ES03PUlQLvzYzQCXggQoL1QZ04E3AkQoN35MRoBnQIEaJ2almrZDNBHDh+WGy8+X9S70PkfBQoWlLPPO18KFS4kn388O/dyvACtOl5zQ1vp1uex3DE6nxCgdWrGrkWAju3DVQT8KECA9uOpsCYEYgsQoGP7cBUBmwIEaJvamuayGaC//XKhPHjLTWErL5ldSh5/YZSccdbZ8tnsD+XRbl1y++QE6JU/LZN/dmgX8Y7dZctXkPFzP5OsrKzccbqeEKB1ScavQ4COb0QPBPwmQID224mwHgTiCxCg4xvRAwFbAgRoW9Ia57EZoN+b8KYMfqx32Orv6dtPrm5zY7A9WoBWFzesWSP3tWstWzeFv4P95icLpFzFSmG13TYQoN0KOh9PgHZuRU8E/CJAgPbLSbAOBJwLEKCdW9ETAdMCBGjTwgbq2wzQrwweJG+ODL1rdlaBAvLu1z9IkaJFg7uLFaBVhxcGPCbvjBsbJjH0rbel1pl1wtrdNhCg3Qo6H0+Adm5FTwT8IkCA9stJsA4EnAsQoJ1b0RMB0wIEaNPCBurbDNCDej0sM6dMDNmFetdYvXuc84gXoOd9MFP6db8rp3vu3/4jX5IGFzbJfa3rCQFal2T8OgTo+Eb0QMBvAgRov50I60EgvgABOr4RPRCwJUCAtiWtcR6bAXr0M0/KxDGjQ1av3nl+95t/535/OV6AnvPedHniwXtDaqgXQ9+aEngH+m9h7W4bCNBuBZ2PJ0A7t6InAn4RIED75SRYBwLOBQjQzq3oiYBpAQK0aWED9W0GaPXRa/UR7PyPQeMmSO2z6geb4wXo5/r0lPcnTchfInATsc/l+AoVwtrdNhCg3Qo6H0+Adm5FTwT8IkCA9stJsA4EnAsQoJ1b0RMB0wIEaNPCBurbDNBfzJktfe7sHLaLmqedLs+89qYUL1Ei6l241aAfF38TuIlYG1E/h5X3UfiYY2TG4h9FfZ9a94MArVs0ej0CdHQbriDgVwECtF9PhnUhEF2AAB3dhisI2BYgQNsW1zCfzQC9b+8eub5xA9m7Z0/YyqvVOElu7X6/7N+3V57q8UDu9VvvuU8uuOIq+XTm+zJuxFA5dPBg7rWcJxde2Ux6DRqS81LrXwK0Vs6YxQjQMXm4iIAvBQjQvjwWFoVATAECdEweLiJgVYAAbZVbz2Q2A7Ra8bO9HpJZUyY5XnyBggXD3nHOP/iJ0a/I2Y0vyN+s5TUBWgujoyIEaEdMdELAVwIEaF8dB4tBwJEAAdoRE50QsCJAgLbCrHcS2wF6+ZIf5a7rW8YNxU53eeJfasqL09438vFttQYCtNOTcN+PAO3ekAoI2BYgQNsWZz4E3AsQoN0bUgEBXQIEaF2SFuvYDtBqa+NHDZeXn3/W9S6LFC0mwyZNFRWiTT0I0KZkw+sSoMNNaEHA7wIEaL+fEOtDIFyAAB1uQgsCXgkQoL2SdzGvFwH66NGj0rtLR/ny00+SXrm6YdiDA/9PLmvRMukaTgYSoJ0o6elDgNbjSBUEbAoQoG1qMxcCegQI0HocqYKADgECtA5FyzW8CNBqi4cDd9J+bchzMmH0SFGBOpFH6bLHy0NPD5J6Dc9LZFhSfQnQSbElNYgAnRQbgxDwVIAA7Sk/kyOQlAABOik2BiFgRIAAbYTVbFGvAnTOrhYv/FzeDHyk+7svF8YN0upnrppcdbXc3K27lDm+XE4Jo38J0EZ5Q4oToEM4eIFASggQoFPimFgkAiECBOgQDl4g4KkAAdpT/uQm9zpA56x60/p18smMd2XNyhWyddMm2bJpoxQpUkSOr1hJylWsKKf9ra6cf/kVor73bPNBgLanTYC2Z81MCOgSIEDrkqQOAvYECND2rJkJgXgCBOh4Qj687pcA7UOa4JII0PZOZt7SL+xNxkwIIKBF4ODRwlKkUEEttSiCAAJ2BIoXLij1apxpZzJmQQCBmAIE6Jg8/rxIgI59LgTo2D46r36+co3sOXBQZ0lqIYCAYYF9O7+SXzYuNDwL5RFAQKfAJXVvlFrV6ussSS0EEEhSgACdJJyXw2wG6OU//lumvv5q2Habtb5RTq9bL6w9UsNLzzwlG9auCbvU+/lhYW06GgjQOhSd1SBAO3OiFwJ+EiBA++k0WAsCzgQI0M6c6IWADQECtA1lzXPYDNCfzf5QHu3WJWwHDz31rFxyzd/D2iM1dG3VQlQQz//4aOmK/E1aXhOgtTA6KkKAdsREJwR8JUCA9tVxsBgEHAkQoB0x0QkBKwIEaCvMeidJtQDd5drm8vPSJWEIBOgwkpRrIECn3JGxYASEAM0/AgRST4AAnXpnxorTV4AAnYJnm0oB+sD+/dKyQV1Rf/M/CND5RVLvNQE69c6MFSNAgObfAAKpJ0CATr0zY8XpK0CATsGzNRWgt2zcIPv37QsR+ebzBTK036MhbepFpwcfkoYXXxrWnrfh999+kw+nTpH3J03I2xx8rn4T+q35Zm5iw0e4w7iNNRCgjdFSGAFjAgRoY7QURsCYAAHaGC2FEUhYgACdMJn3A0wF6PvatpEfvv7KygZPr3eWPP/GRCNzEaCNsEYsSoCOyEIjAr4WIED7+nhYHAIRBQjQEVloRMATAQK0J+zuJk2HAH1Zi5byzyefcQcRZTQBOgqMgWYCtAFUSiJgWIAAbRiY8ggYECBAG0ClJAJJChCgk4Tzclg6BOjezw2VC664yggjAdoIa8SiBOiILDQi4GsBArSvj4fFIRBRgAAdkYVGBDwRIEB7wu5u0lQP0LXO/JsMfWuKO4QYownQMXA0XyJAawalHAIWBAjQFpCZAgHNAgRozaCUQ8CFAAHaBZ5XQ1M5QBcvUUKefOlVObVOXWN8BGhjtGGFCdBhJDQg4HsBArTvj4gFIhAmQIAOI6EBAc8ECNCe0Sc/caoG6AYXNpF7Hu0v5SpWTH7zDkYSoB0gaepCgNYESRkELAoQoC1iMxUCmgQI0JogKYOABgECtAZE2yVMBeiXn3tGflmxPGQ727dskWXffxfSpl7UPO10KVepUlh73oaixYpL5eonSNUTa0j1k06WmqefkfeysecEaGO0YYUJ0GEkNCDgewECtO+PiAUiECZAgA4joQEBzwQI0J7RJz+xqQAdaUWfzf5QHu3WJezSQ089K5dc8/ewdj80EKDtnQIB2p41MyGgS4AArUuSOgjYEyBA27NmJgTiCRCg4wn58DoBOvahEKBj++i8SoDWqUktBOwIEKDtODMLAjoFCNA6NamFgDsBArQ7P09G2wzQG9eukX8tmB+2z7oNG0mVE04Ma/dDAwHa3ikQoO1ZMxMCugQI0LokqYOAPQECtD1rZkIgngABOp6QD6/bDNA+3H7cJRGg4xJp60CA1kZJIQSsCRCgrVEzEQLaBAjQ2igphIBrAQK0a0L7BQjQsc0J0LF9dF4lQOvUpBYCdgQI0HacmQUBnQIEaJ2a1ELAnQAB2p2fJ6NtBug9u3fLxnVrjezzpFNqGalLgDbCGrEoAToiC40I+FqAAO3r42FxCEQUIEBHZKERAU8ECNCesLub1GaAjnYXbnc7+O/oj5au0FEmrAYBOozEWAMB2hgthREwJkCANkZLYQSMCRCgjdFSGIGEBQjQCZN5P4AAHfsMCNCxfXReJUDr1KQWAnYECNB2nJkFAZ0CBGidmtRCwJ0AAdqdnyejCdCx2QnQsX10XiVA69SkFgJ2BAjQdpyZBQGdAgRonZrUQsCdAAHanZ8nownQsdkJ0LF9dF4lQOvUpBYCdgQI0HacmQUBnQIEaJ2a1ELAnQAB2p2fJ6MJ0LHZCdCxfXReJUDr1KQWAnYECNB2nJkFAZ0CBGidmtRCwJ0AAdqdnyejCdCx2QnQsX10XiVA69SkFgJ2BAjQdpyZBQGdAgRonZrUQsCdAAHanZ8no20G6GXffydTXh0T3OfGdetk2fffhu05q0ABqVC5ilSrUUP27tkja1atlN+3bw/rV6BgQTnvksukYOCvevQcNCSsj44GArQORWc1CNDOnOiFgJ8ECNB+Og3WgoAzAQK0Myd6IWBDgABtQ1nzHDYDdM7Sf/jXInm0WxfZuWNHTlPwb5OrrpY7HuopZcqVD2lX/Yc81kdW/7w8pL3Z9W2k+2MDQtp0vyBA6xaNXo8AHd2GKwj4VYAA7deTYV0IRBcgQEe34QoCtgUI0LbFNcxnO0Bv2bhROrW4Snbv/D1k9W27dpP23bqHtOV9cejgQbm7zXWyfMmPeZulbZe7pP3d94a06XxBgNapGbsWATq2D1cR8KMAAdqPp8KaEIgtQICO7cNVBGwKEKBtamuay3aA7ntXZ/n849khqz+p1qkyfPK03I9jh1zM82LNyhVyW/Mr5OiRI3laRXo/P0wuaHplSJuuFwRoXZLx6xCg4xvRAwG/CRCg/XYirAeB+AIE6PhG9EDAlgAB2pa0xnlsBuhtmzfJjRefL0cOHw7ZwQ2dukiHex8IaYv2osNVlwW/F533eu2zz5FBr4/P26TtOQFaG2XcQgTouER0QMB3AgRo3x0JC0IgrgABOi4RHRCwJkCAtkatbyKbAfq9t8bL4Ed7hS3+n08+I5e1aBnWHqkh0jvYWVlZMumzryS7dOlIQ1y1EaBd8SU0mACdEBedEfCFAAHaF8fAIhBISIAAnRAXnREwKkCANsprprjNAP3yc8/I+BdHhG0k3vef8w7oGPgId/6bianr6iPgNU8/I29XLc8J0FoYHRUhQDtiohMCvhIgQPvqOFgMAo4ECNCOmOiEgBUBArQVZr2T2AzQg3o9LDOnTAzbwKl16srg8ZNEvZMc67Fp3Vq5uenFYR8BV2MGjBoj51xwUazhSV0jQCfFltQgAnRSbAxCwFMBArSn/EyOQFICBOik2BiEgBEBArQRVrNFbQboV4cMkjdGvBBxQ10f6SMt27WPeE01qu9N33fzDfLjN19H7DPi7XflL6eeFvGam0YCtBu9xMYSoBPzojcCfhAgQPvhFFgDAokJEKAT86I3AiYFCNAmdQ3VthmgP3h7sjzTs0fEnRQoWFBatm0vNwd+yqr4sceG9Pl56RIZ+ngfWfLt4pD2vC/eWfStHFuyZN4mLc8J0FoYHRUhQDtiohMCvhIgQPvqOFgMAo4ECNCOmOiEgBUBArQVZr2T2AzQ635ZLbdeeakcPXo06iZUeK5+ck2pemIN2fPHrsAdt1fJ2tWrwn66Km8B9TNYo6a+l7dJ23MCtDbKuIUI0HGJ6ICA7wQI0L47EhaEQFwBAnRcIjogYE2AAG2NWt9ENgO0WnXvLh1l4dw5+jYQqJTIXbwTnZgAnahY8v0J0MnbMRIBrwQI0F7JMy8CyQsQoJO3YyQCugUI0LpFLdSzHaB/XPyN3NeuTcQbgSWz3SonnCgvvfeBFCpUKJnhcccQoOMSaetAgNZGSSEErAkQoK1RMxEC2gQI0NooKYSAawECtGtC+wVsB2i1w3fGjZUXBjzmerMls0vJkAmTgx/3dl0sSgECdBQYA80EaAOolETAsAAB2jAw5REwIECANoBKSQSSFCBAJwnn5TAvArTa7yuDB8n4UcNjfh86lkt2mTLy6JARcsZZZ8fq5voaAdo1oeMCBGjHVHREwDcCBGjfHAULQcCxAAHaMRUdETAuQIA2Tqx/Aq8CtNrJD/9aJE8/8k/ZsGZNQhu76MpmclfvxyS7dOmExiXTmQCdjFpyYwjQybkxCgEvBQjQXuozNwLJCRCgk3NjFAImBAjQJlQN1/QyQKutHdi/X76YM1s+ef89WTRvrhw8cCDijstVrCgXXnm1XNysudQ8/YyIfUw0EqBNqEauSYCO7EIrAn4WIED7+XRYGwKRBQjQkV1oRcALAQK0F+ou5/Q6QOdd/v59+2TLxg2yfctm2bZlixQpUlTKli8f+E+F4N+srKy83a08J0BbYQ5OQoC2Z81MCOgSIEDrkqQOAvYECND2rJkJgXgCBOh4Qj687qcA7UMeIUDbOxUCtD1rZkJAlwABWpckdRCwJ0CAtmfNTAjEEyBAxxPy4XU/BegtGzeK+qh2/sehQ4fkj507Rd04zPaDAG1PnABtz5qZENAlQIDWJUkdBOwJEKDtWTMTAvEECNDxhHx43esAvXvn7zLnvekyc/JEKVb8WBk0bkKY0u+//SZtLjhXGl1ymVzZ6no5q1FjySpQIKyfiQYCtAnVyDUJ0JFdaEXAzwIEaD+fDmtDILIAATqyC60IeCFAgPZC3eWcXgbozz+eLQMf6C779+0N7qL2WfWjBuhWjf78uaq/nlFb+o0YLWWOL+dy9/GHE6DjG+nqQYDWJUkdBOwJEKDtWTMTAroECNC6JKmDgHsBArR7Q+sVvArQ0998XYYNeFyOHjmSu2enAVoNqFClqjwx+hWpVuOk3PEmnhCgTahGrkmAjuxCKwJ+FiBA+/l0WBsCkQUI0JFdaEXACwECtBfqLuf0IkBPHfuqDH+iX9jKEwnQanDJ7FLywqR3pFK1amG1dDUQoHVJxq9DgI5vRA8E/CZAgPbbibAeBOILEKDjG9EDAVsCBGhb0hrnsR2g1Xee2156ofyxa1fYLhIN0KrAxVdfIw8//VxYLV0NBGhdkvHrEKDjG9EDAb8JEKD9diKsB4H4AgTo+Eb0QMCWAAHalrTGeWwH6DGDnpYJo0dG3EEyAVr9NvTIt9+Vk2qdGrGm20YCtFtB5+MJ0M6t6ImAXwQI0H45CdaBgHMBArRzK3oiYFqAAG1a2EB9mwFavevc+oKGuTcNy7+dZAK0qtH4sqbSd8jw/OW0vCZAa2F0VIQA7YiJTgj4SoAA7avjYDEIOBIgQDtiohMCVgQI0FaY9U5iM0Av/W6x3N2mVcQNVD/5L/LQ/w2SmqedHvH6+5MmyIgnBsi+vXvCrh9foYKMn/t5WLuOBgK0DkVnNQjQzpzohYCfBAjQfjoN1oKAMwECtDMneiFgQ4AAbUNZ8xw2A/Ts6VPlqR4PhO2gxl9PkaFvvS1FihYNu5a3YeVPy6Tz35vlbQo+Vx/jfvebHwLji4Vdc9tAgHYr6Hw8Adq5FT0R8IsAAdovJ8E6EHAuQIB2bkVPBEwLEKBNCxuobzNAvzb0eRk3fGjYLtp27Sbtu3UPa4/U0KnFVbLqPz+FXRo19T0j34MmQIdRG2sgQBujpTACxgQI0MZoKYyAMQECtDFaCiOQsAABOmEy7wfYDNCDej8iMye/Fbbpp14eK/UanhfWHqlh6ON9Zfr4cWGXBox6Wc654MKwdrcNBGi3gs7HE6CdW9ETAb8IEKD9chKsAwHnAgRo51b0RMC0AAHatLCB+jYD9CuDB8mbI18I28U9j/aXq1vfENYeqeGh22+Rrz+bH3Zp+JTpUb8/HdY5gQYCdAJYLrsSoF0CMhwBDwQI0B6gMyUCLgUI0C4BGY6ARgECtEZMW6VsBuj33hovgx/tFba10/5WV54dO14KFS4cdi1vw68rfpaurf4e8S7ekxYsklJly+btruU5AVoLo6MiBGhHTHRCwFcCBGhfHQeLQcCRAAHaEROdELAiQIC2wqx3EpsBevHCz+Wft7aLuIGLrmwmd/bsGzUE/+ffP8iA+++W9b/+Gjb+2JIlZeqXi0XdTEz3gwCtWzR6PQJ0dBuuIOBXAQK0X0+GdSEQXYAAHd2GKwjYFiBA2xbXMJ/NAH3k8GG5oUlj2b5lc8SVq7twn3/5lVL1xBpSrlIlObBvn2zeuEHUz199u/CLiGNUo/r4t/oYuIkHAdqEauSaBOjILrQi4GcBArSfT4e1IRBZgAAd2YVWBLwQIEB7oe5yTpsBWi11zKCnZcLokS5XHTp82MSpckrtM0MbNb1KtwC9e/dumThxokyfPl1Wr14tu3btkvbt20ufPn1k/vz5UrlyZTn55JM16SVWhgCdmBe9EfCDAAHaD6fAGhBITIAAnZgXvREwKUCANqlrqLbtAL1l40ZRP0W1e+fvWnZ0duML5InRr2ipFalIOgXoNWvWSJMmTWTFihUhW+3UqZOMGjVK+vbtK/3795cuXbrIkCFDpECBAiH9TL8gQJsWpj4C+gUI0PpNqYiAaQECtGlh6iPgXIAA7dzKNz1tB2i18YWffCy9u3ZybVC2fAVRv/+cXaaM61rRCqRLgP418N3xiy66SFatWhXcaoUKFaRixYry3XffSd4A/fjjjwevt23bVl5//fVoLEbaCdBGWCmKgFEBArRRXoojYESAAG2ElaIIJCVAgE6KzdtBXgRotWP1c1avDnlOjh49mhRAyexS0m/EaDm9br2kxjsdlA4Bel/gu+SnnXZaMDxXq1ZNpk2bJnXr1pXXXntNbrnlltwAvW7dOmnTpo0sWLAgyPPee+9Js2bNnFK57keAdk1IAQSsCxCgrZMzIQKuBQjQrgkpgIA2AQK0Nkp7hbwK0GqHX82fJ089dL/8vn17Qhs+vd5Z0vPZwVKuYqWExiXTOR0C9Lhx46Rdu3ZSJvBOvQrHp556apAif4BWjYcOHZKbbrop+D3pBg0ayMKFC5NhS2oMATopNgYh4KkAAdpTfiZHICkBAnRSbAxCwIgAAdoIq9miXgZotbPftm2VGRMnyEfvTIn4E1U5u1c/UXVm/XOk6bX/kIuvvkYKFiyYc8no33QI0Opd5bfeeiv43ebhw4fnekUK0Ori7Nmz5bLLLgt+B3rv3r1yzDHH5I4x+YQAbVKX2giYESBAm3GlKgImBQjQJnWpjUBiAgToxLx80dvrAJ2DoD7Kvez7b2XNypWyddNG2RL4T5EiReX4wPd0j69QUU49s45UqFI1p7u1v+kQoBs2bBh8J3ns2LHBd6Jz8KIF6P379wffrd6zZ48sW7ZMTjnllJwhRv8SoI3yUhwBIwIEaCOsFEXAqAAB2igvxRFISIAAnRCXPzr7JUD7QyN8FekQoOvVqyeLFy+WOXPmBO/CnbPLaAFaXT/hhBNE3Xjsm2++CX5fOmeMyb8EaJO61EbAjAAB2owrVREwKUCANqlLbQQSEyBAJ+bli94E6NjHkA4BukWLFsHffR42bJjceeeduRuOFqDVb0NnZ2cHb/C2detWKVu2bO4Yk08I0CZ1qY2AGQECtBlXqiJgUoAAbVKX2ggkJkCATszLF711B2j1Meyfly4NfOy6gtQ9t6EUKVrMF/tMdhHpEKAHDhwoPXv2lNq1awffUS5UqFCQI1qAHjBggPTq1Utq1aolSwNnaetBgLYlzTwI6BMgQOuzpBICtgQI0LakmQeB+AIE6PhGvuuhK0AfOnhQnuxxv3w6c0buHqueWEMeGzZSqp/8l2Db4oWfy8gnB+Re1/lk1Dt/zquzbjoE6PXr1wc/kq3usN2lSxcZPHiwFC5cOOxnrJTbRx99JOoda3XzsOeee066d++ukzNmLQJ0TB4uIuBLAQK0L4+FRSEQU4AAHZOHiwhYFSBAW+XWM5muAK1+1/mVwYPCFvXXM2rLsLfelqwCBeSz2R/Ko926hPXR0fDR0hU6yoTVSIcArTY1adKk4M9THQz8Dx3qN6Dbt28vW7ZsEfVuc6tWraR169Yya9Ysefnll4Mf3Va/Dz1mzJjgnbjDUAw1EKANwVIWAYMCBGiDuJRGwJAAAdoQLGURSEKAAJ0EmtdDdAXo9k2bRP0ZKvXu8Emn1CJAe3zY06ZNk+uvv14OHDgQcyWdO3eWESNGiPrpMJsPArRNbeZCQI8AAVqPI1UQsClAgLapzVwIxBYgQMf28eVVHQH66JEjcsWZteTI4cMR9/jo0BFy3qWXE6Aj6tht/OSTT6Rfv34yd+7c4DvNeWevWbNm8CPe9957b95ma88J0NaomQgBbQIEaG2UFELAmgAB2ho1EyEQV4AAHZfIfx10BGi1qxsuahT4/eZNETc4NPAR7lqB33HmI9wReTxp3BQ4qxUrVsjGjRuDd9yuXr26qADt5YMA7aU+cyOQnAABOjk3RiHgpQAB2kt95kYgVIAAHeqREq90BejBj/WW9ya8Gbbn8pUqyyszZ8sxRYoQoMN07DSom4fl3HnbzozJzUKATs6NUQh4KUCA9lKfuRFIToAAnZwboxAwIUCANqFquKauAL3r9x1yX9s2svrn5bkrLla8uPQNfHz7rEaNg228A51LY/WJuvO2umHY7bffLpdffrnVG4MlslECdCJa9EXAHwIEaH+cA6tAIBEBAnQiWvRFwKwAAdqsr5HqugK0WtyB/ftl1pSJsmLZsuDvQF/SvIVUrn5C7rqPHj0qh6N8Tzq3U5JPTL3Dmg534VbBWd1RWz3UR7U7dOgQ/E+1atWS1DYzjABtxpWqCJgUIECb1KU2AmYECNBmXKmKQDICBOhk1DweozNAe7wVI9OnQ4B+4403pGfPnvLLL7/kGhUI/KxY06ZNg+9KN2/ePPi70LkXPXpCgPYInmkRcCFAgHaBx1AEPBIgQHsEz7QIRBAgQEdA8XsTATr2CaVDgFY7VO/+z5s3T8aOHSuTJ0+WnTt35m68QoUKwd+FVu9Ue3kjMQJ07pHwBIGUESBAp8xRsVAEcgUI0LkUPEHAcwECtOdHkPgCCNCxzdIlQOfd5d69e0X9JrQK0x9++GHIx+ovvPDC4LvSrVq1kqJFi+YdZvw5Ado4MRMgoF2AAK2dlIIIGBcgQBsnZgIEHAsQoB1T+acjATr2WaRjgM67Y/UzVm+++aa8/vrr8u233+ZeKl26tNx0000ydOjQ3DbTTwjQpoWpj4B+AQK0flMqImBagABtWpj6CDgXIEA7t/JNT90BeuSTA+SDqVOs72/ql98YmTPdA3RetB9++CH4rrT6zvSGDRuCl9RHv209CNC2pJkHAX0CBGh9llRCwJYAAdqWNPMgEF+AAB3fyHc9dAfo5/v2lBkTJ1jf50dLVxiZM5MC9NKlS4MBety4cbJ27dqgJwHayD8riiKQNgIE6LQ5SjaSQQIE6Aw6bLbqewECtO+PKHyBBOhwk7wt6R6gt23bJuPHjw8G56+++ip36+r7z9ddd52oMG3rwTvQtqSZBwF9AgRofZZUQsCWAAHaljTzIBBfgAAd38h3PQjQsY8kHQP0gQMHZMaMGcHQrP4ePHgwF+HMM88M3kSsbdu2or4HbfNBgLapzVwI6BEgQOtxpAoCNgUI0Da1mQuB2AIE6Ng+vrxKgI59LOkUoBctWhQMzRMmTBD1znPOo0SJEnLDDTcEg/M555yT02z9LwHaOjkTIuBagADtmpACCFgXIEBbJ2dCBKIKEKCj0vj3AgE69tmkQ4CeNGmS9OnTR5YtWxay2QYNGkjHjh2ldevWokK01w8CtNcnwPwIJC5AgE7cjBEIeC1AgPb6BJgfgT8FCNB/WqTMM90B+sWnn5TZ06bG3f/BwMeId+/aGbVfkcB3cNVHi48cPhyxT4GCBSW71J8fMZ644MuI/dw2pkOAvv3222XMmDFBijJlyki7du2C7zafccYZbnm0jidAa+WkGAJWBAjQVpiZBAGtAgRorZwUQ8CVAAHaFZ83g3UHaCe7OHTokPTs1EG++eKzkO4Vq1aT2+57UE77W10pV7GSHA70W/frLzL/g5ky/sURcmD//pD+N3TqIrfec59kFSgQ0q7zRToEaPUu84oVK4LvNl977bVSpEgRnUTaahGgtVFSCAFrAgRoa9RMhIA2AQK0NkoKIeBagADtmtB+AS8C9LO9HpJZUyaFbPbcJpdIr0FDRL3zHOmx/tdf5Z4bW8mOPN/dVf2uv62jdHzgoUhDtLSlQ4Des2ePFC9eXIuHySIEaJO61EbAjAAB2owrVREwKUCANqlLbQQSEyBAJ+bli962A/SE0SNlzKCnQ/Zeplx5GT19phxXqlRIe/4XC+fOkd5dOoY0Z2VlybOvj5faZ9UPadf1Ih0CtC4L03UI0KaFqY+AfgECtH5TKiJgWoAAbVqY+gg4FyBAO7fyTU+bAXr/vn1yfeNzZM8ff4Ts/+9tb5Y7e/YNaYv24oaLGsnWTZtCLje+rKn0HTI8pE3Xi1QL0A8//LB89NFH0qNHD/nHP/4RZFA/VfXdd98lRfLII48kNS6ZQQToZNQYg4C3AgRob/2ZHYFkBAjQyagxBgEzAgRoM65Gq9oM0PMC32Xu1/2usP3c3/9JueK6/4a9sIv5Gnrdcbt8+eknIa2FCheWKV98LcWPPTakXceLVArQP/74o+TcGKxKlSqydu3aIEHem4glanL06NFEhyTdnwCdNB0DEfBMgADtGT0TI5C0AAE6aToGIqBdgACtndR8QZsB+vUXhsjYYYPDNqW+w6y+y+zkcXebVrL0u8VhXUe9M0NOOqVWWLvbhlQK0PsC7/CfeOKJsinwDr1693nixInB7d91113B339OxmLnzuh3Sk+mXqwxBOhYOlxDwJ8CBGh/ngurQiCWAAE6lg7XELArQIC2661lNpsB+rk+PeX9SRPC1u30I9j79u6RVo3qi/ooeP7HwBdfkfrnX5C/2fXrVArQarO7d++Wb7/9Vho1aiQFDN6d3DVshAIE6AgoNCHgcwECtM8PiOUhEEGAAB0BhSYEPBIgQHsE72ZamwFa/Ub0pJdHhy1X3QjsqZfHSt1zG4Vdy9sQLYCrPoPHTw7+/FXe/jqep1qA1rFnr2oQoL2SZ14EkhcgQCdvx0gEvBIgQHslz7wIhAsQoMNNfN9iM0C/O/4NGfJ4n4gmpcseL/c+PkAaXnxp2HX1zrP6+PfEMeHhO6fzpAWLpFTZsjkvtf1NhwD9R+Cmberj3SVKlHD0G9Dqe8/bt28PGpY1YBrtcAjQ0WRoR8C/AgRo/54NK0MgmgABOpoM7QjYFyBA2zd3PaPNAP3j4m+k+42xbxZW55wGUuvMv0nVE2sE7ta9W9asWilfBn6+asvGjVH3qn4G6615X0S97uZCOgTonJuIvfTSS3LbbbfF5di1a5ccd9xxwX7cRCwuFx0QyGgBAnRGHz+bT1EBAnSKHhzLTksBAnQKHqvNAK147mjZXFYsW6JVqkP3++WGzl211swplokBeseOHVK6dOkgAQE6518CfxFAIJIAATqSCm0I+FuAAO3v82F1mSVAgE7B87YdoD9+d5o8+c/7tEmpn64a9/E8KZldSlvNvIUyMUB/+OGH0rRpUylZsqRwF+68/xp4jgAC+QUI0PlFeI2A/wUI0P4/I1aYOQIE6BQ8a9sBWhE91eMBmT19qmutrMBdph8fNlLObXKJ61rRCqRigN62bVvwTtw5e3r22Wdl5syZcv/998uVV16Z0xzx73/+8x8ZPXq0LF68WOrUqRNSJ+IAjY18B1ojJqUQsCRAgLYEzTQIaBQgQGvEpBQCLgUI0C4BvRjuRYA+dPCgPHR7e/lu0ZdJb1ndufvOnn2kxU03J13DycBUDNDvv/++NGvWzMn2YvYZMmSIdOvWLWYfnRcJ0Do1qYWAHQECtB1nZkFApwABWqcmtRBwJ0CAdufnyWgvArTa6OHDh2X8iyPkjRHDRAXqRB6VqlWT+/s/JeqGY6YfmRig1Ue31bvVPXv2lEKFCpkmzq1PgM6l4AkCKSNAgE6Zo2KhCOQKEKBzKXiCgOcCBGjPjyDxBXgVoHNWuvrn5TL9zddl3gcz5ff//XRSzrX8f2uefoZc3Ky5NL/hJilStFj+y0Zep2KA3r07cPfyNWtyPXr37i1TpkyRfv36yXXXXZfbHumJunlYxYoVI10y3kaANk7MBAhoFyBAayelIALGBQjQxomZAAHHAgRox1T+6eh1gM6RUO9I//DVIln36y+yfcvm4H+OKVJUypavEPhP+cBPW9WRKiecmNPd2t9UDND5cRL9Gav84229JkDbkmYeBPQJEKD1WVIJAVsCBGhb0syDQHwBAnR8I9/18EuA9h3M/xaUDgF63759cuDAASlWrJgULlzYr9RCgPbP0axe/h9Z8u03SS0ou3QZOe/Sy4Njd/2+Q+Z/OCusTuXqJ8rfGpwb1p6/4cOpU+TQodCveKjffT/3oovzd+W1RwIEaI/g80y7e+de+W7hijwtyT095phCUv+iWsHBe3btk8Vf/BxWqFylbPlr7Wph7fkbFs5ZIocPHQlpzi59rJxRv0ZIGy+8ESBAe+POrAhEEiBAR1LxeZvfAvTePXtk68YN8tu2rcGPaVesWk2y//ebxF5QpkOA9sItmTkJ0MmomRkz9fXXZPjAx5Mqrr5qMXzytODYlT8tk85/D7+hXZGiReXFae9L5eonxJzjmrNqi/r/E/I+1L0PnnntzbxNPPdQgADtIf7/pv71583yf/e7/+9EdpljZcArHYNV163eKk/cMy5sc4UDIfuRIW2lXKXYPx15f+sXZP++0P/xq2btqnJP/1ZhNWmwL0CAtm/OjAhEEyBAR5PxcbsfAvTyH/8t709+S+ar70H/9luIVofu98sNnbvK158vkPW//CJNml0tJY7LDulj8kU6BOiVK1fK5s2bk2I699z47xImVTjCIAJ0BBSPmkwHaLWt2mefI8+OfVPUHfWjPQjQ0WT8006A9v4sbAZotdu/nF5F7hnwj8B/d6PvnQAd3cYPVwjQfjgF1oDAfwUI0Cn4L8HLAL1t8yZ58p/3ybdfLowqlxOgZ0ycIM/37SlFixWXDvc+IH9ve3PM/8M7asEEL6RDgM75DnSCWw92P3r0aDLDkhpDgE6KzcggGwFaLbxb70flmhvbRd0DAToqjW8uEKC9PwrbAVrt+PpOTeSCZnWibp4AHZXGFxcI0L44BhaBQFCAAJ2C/xC8CtAqNA+4/27ZsW1bTLX8ATqn87lNLpHHh42UrAIFcpqM/CVAE6CN/MPyeVFbAbpY8eIyevpMqVClakQRAnREFl81EqC9Pw4vAnSRooXlkaHtAjf5PC4iAAE6IotvGgnQvjkKFoKAEKBT8B+BFwF6zaqV0vW6FrJvb+h3GyPxRQvQqu8td98nN3W5M9IwbW3pEKB//vln2bRpk8ydO1d69eolRQPfP23cuLGcd955Ur9+fVm1apV89tln8umnn8qGDRvkkksukcceeyxoqPrYevAOtC3p+PNEC9D39X9CTq1TN2aBIoG756vfalePaN+BzlugXsPz5KmXx+Ztyn1OgM6l8O0TArT3R3PwwKHAvUN+j7iQAd1eD2tX30VW7yDnfxQsWEDKVykdbI72Hei8Y06pU126PX5t3qbc5wToXApfPiFA+/JYWFSGChCgU/DgbQfog4G7Qd/V+lpZuWypI61YAbpAwYLy1Jixju7m62iyCJ3SIUCrbc2bN0+uuuqq4F24Z86cKZG+27xr1y5p3rx5MEj36NFDnnzyyQgi5poI0OZsE60cLUCroKsCr9OHkwCtat3Xb6Bc2ap1WFkCdBiJ7xoI0L47kpAF3dXi+ZDX6kXtc06Szj2vCWvP2+AkQKv+N951qTS67Iy8Q4PPCdBhJL5qIED76jhYTIYLEKBT8B+A7QAd7f8wj0YXK0CrMWWOLycj33lPSpc9PloJV+3pEKDXrVsntWrVEvV95vnz50vdutHfQdy7d69ceeWVwRA9YsQIueOOO1z5JTKYAJ2Iltm+0f57aipAH1uyZOCj3LOkXMWKIRsjQIdw+PIFAdqXx5K7KNMBuljxItIz8FHuUseXyJ1TPSFAh3D47gUB2ndHwoIyWIAAnYKHbztAd255ddR3n4sfe6yUKltW1v/6a65kvACtOra78265+a57csfofJIOAbpfv37Sp0+f4LvL06dPj8szceJEad26tdSsWVN++uknKzdrU4siQMc9GmsdbAdotbFzLrhIBowaE7JHAnQIhy9fEKB9eSy5izIdoNVEp59dQ7r0bpE7p3pCgA7h8N0LArTvjoQFZbAAAToFD99mgFYf21YBOv9DfRT7lrvvlTa3d5bP58yWR7t1ye2SE6D/tWCePNL5Njl65EjutZwnJ9b8a/BGRDmvdf5NhwCt3lGeNWuWPP/883LPPfH/h4atW7dK+fLlg+9Yr1+/XipVqqSTNGotAnRUGusXTAdo9Y7zH4GvDOR/9HjqGbn0mpa5zQToXArfPiFA+/ZoggvTHaDVO8579+wP2/TN3ZvKOU1OzW0nQOdS+PIJAdqXx8KiMlSAAJ2CB28zQH/w9mR5pmePMKVWt9wmnXs8Emz/bPaHEQO0uvj5x7Nl4APdZf++vWE1Jn/2lWSXKRPW7rYhHQJ0nTp15Pvvv5cJEyYE31mOZ3Lw4EHJzs4W9XHur776Ss4+++x4Q7RcJ0BrYdRSJFqAPq5UKSlU+JiIc3R68CG5pHnou1DRvgP9jw4d5ctPP5FfV/wcUqtkdil56b1Zwa9mqAsE6BAeX74gQPvyWHIXpTtAX9LyLPnxX6tk45rtuXOoJ8VLFpVegY9yH1f62GA7ATqEx3cvCNC+OxIWlMECBOgUPHybAXrciGHy2pDnwpTyht9YAVoNfKrHAzJ7+tSwGiOnvisn1zotrN1tQzoE6CZNmgTvwK2+z6y+1xzvsWDBAjn//POD3VasWCEnnXRSvCFarhOgtTBqKRItQMcqfu/jA+Sqf7QJ6RItQN94x51y7kVN5J4brw/7VMl5l14ujw79779TAnQIpy9fEKB9eSy5i9IdoJtef47UDnxk+9keE4OfUsqdKPCkTsO/SMeH/vspMwJ0Xhn/PSdA++9MWFHmChCgU/DsbQbo5/v2lBkTJ4QoqZt/TVzwZW5bvAA9c8pEGdTr4dz+OU8GvviK1D//gpyX2v6mQ4Du2rVrMDirILxkyRIpUqRITJ8HH3xQnnnmGTk28J303377LXjn7pgDNF0kQGuC1FDGRoC+9Z77ZNT/PSGTX3kpbMW9Bg2RC69sxjvQYTL+ayBA++9M8q7IRIBuflMjmfrKfPn4na/zThV83uHBq6Re47/yHegwGX81EKD9dR6sJrMFCNApeP42A/TwgY+L+j/M8z5KHJctU7/8JrcpXoBWH+Pue1fn3P45T54d+6acWb9Bzkttf9MhQC9atEgaNPivTdOmTWXq1KlSrFixiEZDhgyR7t27B99Z6NKliwwfPjxiPxONBGgTqsnVtBWg9+/bJ3cE7ouwdvWqkIWqr2OMee9DaXfpBYHvW4b+XnydcxrIM6+9GdKfF94JEKC9s3cys6kArX57+onub8jmdb+FLKNEdjHpNexm6dvx5cDXrQ6GXFO/P31P/1YhbbzwRoAA7Y07syIQSYAAHUnF5202A/Skl0fLi0+H/7bw2A/nSqVq1YJS8UanDPYAACP0SURBVAK0+gi4+ih4/kfeGvmvuXmdDgFa7V+F4ZEjRwYpGjZsKJ07d5bGjRvLySefLNu2bZMvvvhC3n33XXnxxReDff7617/KnDlzpEqVKsHXNv4fArQNZWdzRAvQFwXeFa5QpWrEIo0vayq1zqwTci3WR7jVO9Dq8e+v/yX33XxD2Ee5m1x1tSycO4cAHSLqvxcEaP+dSd4VmQrQao4VS9bL849MCvso91nnnyL//molATrvQfjsOQHaZwfCcjJagACdgsdvM0DPnTlDBtx3d5iS+qim+simesQK0Nu3bpHbrrpcdu/aGVIjKytL3v9uaeDmRoVD2nW8SJcArSweeOABefbZZ0NYSgVuCrVjx46Qtnr16gXv2l2uXLmQdtMvCNCmhZ3Xjxagdf0OtPoOdE6AVqsa/kQ/mTr2VUcL5B1oR0zWOhGgrVEnNZHJAK0WNPmlT2Xuu4sdrY13oB0xWelEgLbCzCQIOBIgQDti8lcnmwF62+ZNcuPF58uRw4fDEC6++hrp8lAv+XHx1xHvwq3epXr6kX8GfiP6l7Cxtc+qL4PGhX63OqxTkg3pFKAVwRNPPCEDBw6U3bt3h4kUKFBAWrRoIa+++qocd9xxYddNNxCgTQs7r287QKs763e85krZsGZN3EUSoOMSWe1AgLbKnfBkpgP0gf2HZODdr8vWjb/HXRsBOi6RtQ4EaGvUTIRAXAECdFwi/3WwGaDV7nsGfst50by5ESGyAgGufKXKsmnd2tzrlaufIPsCP6e0fcvm3Lb8Tx4c+H9yecvr8jdreZ1uAVqh7Al8p3TGjBmyfPly2bhxo6h3oatXry7q96JtfmQ7/wERoPOLePfadoBWO/1u0Zfy4C03hX0cNL8CATq/iLevCdDe+seb3XSAVvMv/2GtDOk9OfDf3dirIUDH9rF5lQBtU5u5EIgtQICO7ePLq7YD9GcffySP3nWHNgt1E7LxcxdI0WLFtdXMWygdA3Te/fnpOQHaP6fhRYBWux/6eF+ZPn5cTAgCdEwe6xcJ0NbJE5rQRoBWC5o46hOZ9/53MddGgI7JY/UiAdoqN5MhEFOAAB2Tx58XbQdopdA/8D3oTwPfh9bxUL8Xq3431tSDAG1KNrwuATrcxKsWrwK0uuN2x+ZXyKb166JunQAdlcaTCwRoT9gdT2orQKs7bg/o9rps3xx6j5K8CyVA59Xw9jkB2lt/ZkcgrwABOq9Gijz3IkDvCXz/tst1zQPfZ/7VlVLLdu2l6yN9XNWINzgdAvTKlStl8+boH4GPZXDMMcdI1apVRd1QTN2szeSDAG1SN7HaXgVotcpvvvhMenS4OeqCCdBRaTy5QID2hN3xpLYCtFrQT9/9KkP7vB11bQToqDTWLxCgrZMzIQJRBQjQUWn8e8GLAK00tgS+e/vEA93lh6+/ShhHfVf6ps5dpd2dd0uBggUTHp/IgHQI0LfffruMGTMmkW2H9VUh+tZbb5WePXtKkSJFwq7raCBA61DUU8PLAK128FyfnvL+pMg3BiRA6zljXVUI0LokzdSxGaDVDsYPny2fffDviJshQEdk8aSRAO0JO5MiEFGAAB2Rxd+NXgVopaLuxv368KHy9msvy54//nAEVa3GSXJX70elXsPzHPV324kAHSp4xRVXyDvvvGMkRBOgQ629fOV1gFafUrm9edPg/9CW34EAnV/E29cEaG/9481uO0Dv23NA+ncbKzu2hv/SAwE63mnZu06AtmfNTAjEEyBAxxPy4XUvA3QOh/oJm/kfzpKP350ua1auEPVzV4cOHQpeLn7ssXJ8xUpy2t/qyhXX/kNOr3dWzjArf9MhQP/888+yadMmmTt3rvTq1UuKFi0qjRs3lvPOO0/q168vq1atks8++0w+/fRT2bBhgzRt2lR69+4d9N0buAP6f/7zH/n444/l7bf/+9E8UyGaAG3ln7SjSbwO0GqRX82fJ490ujVsvQToMBJPGwjQnvLHndx2gFYLWvLNahn+2DthayNAh5F41kCA9oyeiREIEyBAh5H4v8EPATq/0tHAb2Hs2L4t8C5nUSleokT+y1Zfp0OAVmALFiwQFXwLFy4sM2fOlHPPPTfMcdeuXdK8efNgkH7kkUdkwIABIX3UT1+1bNlSDh48KP379w9+nDukg8sXBGiXgAxHwAMBArQH6EyJgEsBArRLQIYjoFGAAK0R01YpPwZoW3t3Mk86BOj169dLrVq15MiRIzJ//nypW7du1K2rd5zV70Grd6NHjhwpnTt3Dunbp08f6devn5x88smi3tnW+SBA69SkFgJ2BAjQdpyZBQGdAgRonZrUQsCdAAHanZ8no20GaPX7rjPeGh9xn3XPbSR3PNQz4jUvG9MhQKt3i9VHstW7y9OnT4/LOXHiRGndurXUrFlTfvrpp5C7b69evVpq1KgRrLFjxw7Jzs6OW89pBwK0Uyn6IeAfAQK0f86ClSDgVIAA7VSKfgiYFyBAmzfWPoPNAD1z8lsyqPcjEfegfstZ/aaz3x7pEKDVO8qzZs2S559/Xu655564xFu3bpXy5cuL+ii9eve6UqVKuWNUW8mSJeWPwE3flixZIqeeemruNbdPCNBuBRmPgH0BArR9c2ZEwK0AAdqtIOMR0CdAgNZnaa2SzQC9YtkSuaNl84h7U3fVfurlsRGvedmYDgG6Tp068v3338uECROC7yzH81TfcVbvLKuPc3/11Vdy9tln5w45HLhzuroJmbrJ27p166Ry5cq519w+IUC7FWQ8AvYFCND2zZkRAbcCBGi3goxHQJ8AAVqfpbVKNgO02lS31tfJsu+/Ddtf5eonyGsfzAlr97ohHQJ0kyZNgnfgvuOOO2TEiPjv8qsbjp1//vlB+pUrV+Z+ZFs1qCCuArn6LWgVsLOysrQdEQFaGyWFELAmQIC2Rs1ECGgTIEBro6QQAq4FCNCuCe0XsB2gl3y7WHp0uFn27d0TstlChQrJG58skDLHlwtp9/pFOgTorl27BoPzSSedFPzYtQq/sR4PPvigPPPMM1IicAf03377TdTZ5Dw6duwoL730kpxzzjny5Zdf5jRr+UuA1sJIEQSsChCgrXIzGQJaBAjQWhgpgoAWAQK0Fka7RWwHaLW7bxd+IT3vuE0O7N8fstlrbmwn3Xo/GtLm9Yt0CNCLFi2SBg0aBCnVbzxPnTpVihUrFpF2yJAh0r179+D3n1XwfuGFF3L7jR49Wjp16hR87fTj4LmDHTwhQDtAogsCPhMgQPvsQFgOAg4ECNAOkOiCgCUBArQlaJ3TeBGg1fq/mj9P+tzZSQ4Fvm+b93FJ8xbSvtu9UrFqVa0fD847RyLP0yFAq/126dIl+LNU6nnDhg2DP0/VuHHj4M9Rbdu2Tb744gt599135cUXX1Rd5JRTTpE5c+bkfsdZ/f7zO++8E7xWr149UaG8YMGCwde6/h8CtC5J6iBgT4AAbc+amRDQJUCA1iVJHQTcCxCg3Rtar2AzQC9e+LmMfHJA7h43rlsre3bvzn2d98kxgY8Zl69UWdRfJ49R78xw0i3hPukSoNXGH3jgAXn22WdDDEqVKiXq56jyPs4666zgXbuPP/743Gb1u8/q+9DqneyZM2dK6dKlc6/pekKA1iVJHQTsCRCg7VkzEwK6BAjQuiSpg4B7AQK0e0PrFWwG6M9mfyiPdutiZI8fLV1hpG46BWgF9MQTT8jAgQNld4T/4aJAgQLSokULee2114I/VZUXVH2cW91YTL0Tre7CbeJBgDahSk0EzAoQoM36Uh0BEwIEaBOq1EQgOQECdHJuno4iQMfmT7cArXa7Z88emTFjhixfvlw2btwo6l3o6tWri/q96CpVqsQGMXiVAG0Ql9IIGBIgQBuCpSwCBgUI0AZxKY1AggIE6ATB/NCdAB37FNIxQMfesXdXCdDe2TMzAskKEKCTlWMcAt4JEKC9s2dmBPILEKDzi6TAawJ07EMiQMf20XmVAK1Tk1oI2BEgQNtxZhYEdAoQoHVqUgsBdwIEaHd+nowmQMdmT7cArb77PHHiRJk+fbqsXr1adu3aJe3bt5c+ffrI/Pnzg3fdVjcM8+JBgPZCnTkRcCdAgHbnx2gEvBAgQHuhzpwIRBYgQEd28XUrATr28aRTgF6zZo00adJEVqwIveGa+m3nUaNGSd++faV///7Bn7xSvwetbipm80GAtqnNXAjoESBA63GkCgI2BQjQNrWZC4HYAgTo2D6+vGozQB89elQOHz5sxKFQoUJG6qZLgP7111/loosuklWrVgWdKlSoIBUrVpTvvvtO8gboxx9/PHi9bdu28vrrrxsxjVaUAB1NhnYE/CtAgPbv2bAyBKIJEKCjydCOgH0BArR9c9cz2gzQrhfrQYF0CND79u2T0047LRieq1WrJtOmTZO6desGf67qlltuyQ3Q69atkzZt2siCBQuC0u+99540a9bMmjoB2ho1EyGgTYAArY2SQghYEyBAW6NmIgTiChCg4xL5rwMBOvaZpEOAHjdunLRr107KlCkTDMennnpqcNPq957zBmjVeOjQIbnpppuC35Nu0KCBLFy4MDaQxqsEaI2YlELAkgAB2hI00yCgUYAArRGTUgi4FCBAuwT0YrjNAH3wwAH5av48Wbt6lWzesF4KFCwg5StVlr+cerrUOaeBZGVleUEQc850CNDqXeW33nor+N3m4cOH5+43UoBWF2fPni2XXXZZ8DvQe/fulWOOOSZ3jMknBGiTutRGwIwAAdqMK1URMClAgDapS20EEhMgQCfm5YveNgL0/sBHiMcOe15mTZkkO3fsiLjvilWryT863C7X3NA24nWvGtMhQDds2DD4TvLYsWOD70TnWEYL0Pv37w++W71nzx5ZtmyZnHLKKTlDjP4lQBvlpTgCRgQI0EZYKYqAUQECtFFeiiOQkAABOiEuf3Q2HaA3rVsrfe/qIiuWLXG04QuuuEoeGPCUFCte3FF/053SIUDXq1dPFi9eLHPmzAnehTvHLFqAVtdPOOEEUTce++abb4Lfl84ZY/IvAdqkLrURMCNAgDbjSlUETAoQoE3qUhuBxAQI0Il5+aK3yQC9f99e6fz3q2XdL6sT2qsK0b2fG5rQGFOd0yFAt2jRIvi7z8OGDZM777wzlypagFa/DZ2dnS3qrulbt26VsmXL5o4x+YQAbVKX2giYESBAm3GlKgImBQjQJnWpjUBiAgToxLx80dtkgH5hwGPyzrixSe3zwSeelsv/fm1SY3UOSocAPXDgQOnZs6fUrl07+I5yzk9+RQvQAwYMkF69ekmtWrVk6dKlOjlj1iJAx+ThIgK+FCBA+/JYWBQCMQUI0DF5uIiAVQECtFVuPZOZCtDbt26RNhc2kqNHjiS10AqVq8jrsz/1/MZi6RCg169fH/xItrrDdpcuXWTw4MFSuHDhsJ+xUgf10UcfiXrHWt087LnnnpPu3bsndX7JDCJAJ6PGGAS8FSBAe+vP7AgkI0CATkaNMQiYESBAm3E1WtVUgJ72xlgZ1v8xV2sfNG6C1D6rvqsabgenQ4BWBpMmTQr+PNXBgweD32lu3769bNmyRdS7za1atZLWrVvLrFmz5OWXXw5+dFv9vNWYMWOCd+J2a+h0PAHaqRT9EPCPAAHaP2fBShBwKkCAdipFPwTMCxCgzRtrn8FUgH7w1rby7cIvwtZboGBBuaxFS6l15t/kyJHD8u+v/yVz338vGNryd/5725vlzp598zdbfZ0uAVqhTZs2Ta6//no5EPg5sViPzp07y4gRI6y/+0+AjnUqXEPAnwIEaH+eC6tCIJYAATqWDtcQsCtAgLbrrWU2UwG67SUXyKb168LWOPDFV6T++ReEtH88/R15ssf9IW3qRYMLm0j/kS+FtdtsSKcArdw++eQT6devn8ydOzfsf7SoWbNm8CPe9957r03i3LkI0LkUPEEgZQQI0ClzVCwUgVwBAnQuBU8Q8FyAAO35ESS+AFMButnfTpMDgd8Tzvs467zz5cmXXs3blPu863XXyPIlP+a+Vk9qnna6DJ8yPaTN9ot0C9A5fps2bZIVK1bIxo0bg3fcrl69uqgA7eWDAO2lPnMjkJwAATo5N0Yh4KUAAdpLfeZGIFSAAB3qkRKvTAToPbt3S4v6dcL23/q2TnL7Az3C2lXDs70ekllTJoVcK1u+gkz49POQNtsv0jVA23Z0Mh8B2okSfRDwlwAB2l/nwWoQcCJAgHaiRB8E7AgQoO04a53FRID+/bffpFWjs8PWecdDPeW69h3C2lXDy88/K+NHDQ+5ll26tEz+/F8hbbZfEKDtiROg7VkzEwK6BAjQuiSpg4A9AQK0PWtmQiCeAAE6npAPr9sM0F0e7iXX3nxrRAUCdESWpBrV95x1/X5z165dk1pDMoMI0MmoMQYBbwUI0N76MzsCyQgQoJNRYwwCZgQI0GZcjVYlQMfmTcV3oG+//fbgT1DF3pmzq0ePHnXWUUMvArQGREogYFmAAG0ZnOkQ0CBAgNaASAkENAkQoDVB2ixjM0B36H6/NL/hpojbe2PECzL51TEh144rVUpe+2BOSFu0FyWOy452yVU7AZoA7eofEIMRSHMBAnSaHzDbS0sBAnRaHiubSlEBAnQKHpzNAG2S56OlK4yUT8UArd41TvSd4z179kivXr1kyJAhwbHlypWToUOHSuvWrY24RirKO9CRVGhDwN8CBGh/nw+rQyCSAAE6kgptCHgjQID2xt3VrATo2HypGKBj7yj86vz58+W2226T5cuXBy+q0KzCswrRNh8EaJvazIWAHgECtB5HqiBgU4AAbVObuRCILUCAju3jy6sE6NjHks4B+o8//pCHH35Yhg0bFnzXuUKFCjJixAhp2bJlbBRDVwnQhmApi4BBAQK0QVxKI2BIgABtCJayCCQhQIBOAs3rIQTo2CeQrgFa3alb3Wxs5cqVQYC2bdvK4MGDpUyZMrFBDF4lQBvEpTQChgQI0IZgKYuAQQECtEFcSiOQoAABOkEwP3QnQMc+hXQL0Lt27ZIePXoE32lWO69cubKMGjVKrr766tgQFq4SoC0gMwUCmgUI0JpBKYeABQECtAVkpkDAoQAB2iGUn7oRoGOfRjoF6I8++kg6duwov/zyS3DTHTp0kEGDBkl2tpk7mMeWDb9KgA43oQUBvwsQoP1+QqwPgXABAnS4CS0IeCVAgPZK3sW8JkLLH4F3OXt27uBiVYkPff7NSYkPcjAiHQL0zp075f7775eXXnopuOPq1avLiy++KE2bNnUgYK+LiX+L9lbPTAhkpgABOjPPnV2ntgABOrXPj9WnlwABOgXP08Q70CnIEHXJDWtUlWOLHBP1ut8vzJw5Uzp16iRr166VrKys4POnn35aSpYs6bulE6B9dyQsCIG4AgTouER0QMB3AgRo3x0JC8pgAQJ0Ch7+v35ZLzv27kvBldtZcuOTq0vRwoXsTKZxlh07dkj37t3ltddeC1atUaNG8B3oiy++WOMseksRoPV6Ug0BGwIEaBvKzIGAXgECtF5PqiHgRoAA7UbPo7Hfr9skm3f94dHs/p/2klNqBN+59f9K/1zhxx9/LDfffLOsX78+2Fi/fn3p37+/lChR4s9ODp81atTIYU/33QjQ7g2pgIBtAQK0bXHmQ8C9AAHavSEVENAlQIDWJWmxzs9btsvqbTsszpg6UxUrXFjOO7la6iz4fytVP081ZswYLes+evSoljpOihCgnSjRBwF/CRCg/XUerAYBJwIEaCdK9EHAjgAB2o6z1lnUu8/qXWge4QIVSh4rtatUCL/g8xYCtM8PiOUhkEYCBOg0Oky2kjECBOiMOWo2mgICBOgUOKT8Szxw+LDMW/7fnzXKfy3TX9eqcLxULX1cyjH8+uuvsnXrVi3rrlevnpY6TorwDrQTJfog4C8BArS/zoPVIOBEgADtRIk+CNgRIEDbcdY+yzdrNsj2P/Zqr5vqBRv/JXADsUKpdwOxVHUnQKfqybHuTBYgQGfy6bP3VBUgQKfqybHudBQgQKfoqW74fZf8uGFLiq7ezLLLBT6+XScFP75tRsNOVQK0HWdmQUCnAAFapya1ELAjQIC248wsCDgRIEA7UfJpH8JL6MHUq1ZJyhxbLLSRV0YF+DdolJfiCBgRIEAbYaUoAkYFCNBGeSmOQEICBOiEuPzVmXeh/zyPVL152J87SM1nBOjUPDdWndkCBOjMPn92n5oCBOjUPDdWnZ4CBOgUP1d+E1qkYIECcm6NqlKsMN99tv3PmQBtW5z5EHAvQIB2b0gFBGwLEKBtizMfAtEFCNDRbVLiiroj91er18vegwdTYr0mFnlG5fJS8bgSJkpTM44AAToOEJcR8KEAAdqHh8KSEIgjQICOA8RlBCwKEKAtYpua6ve9+0XdlfvwkSOmpvBt3b+UKyMnli3l2/Wl+8II0Ol+wuwvHQUI0Ol4quwp3QUI0Ol+wuwvlQQI0Kl0WjHW+tueffLt2o0ZFaJPDoTnGoTnGP8qzF8iQJs3ZgYEdAsQoHWLUg8B8wIEaPPGzICAUwECtFOpFOi3e/8BWRL4aaud+/anwGrdLfG0SuWkcnZJd0UY7VqAAO2akAIIWBcgQFsnZ0IEXAsQoF0TUgABbQIEaG2U/in006Ztsua33/2zII0rUT9T9dfyZaVEkWM0VqVUsgIE6GTlGIeAdwIEaO/smRmBZAUI0MnKMQ4B/QIEaP2mvqj4+9598sv232Xzrj98sR63i8guVkSqlc7mZmFuITWPJ0BrBqUcAhYECNAWkJkCAc0CBGjNoJRDwIUAAdoFXioM/ePAAdm08w/Z9sdeUaE6lR4lixaRMsWLSfmSxSW7WNFUWnrGrJUAnTFHzUbTSIAAnUaHyVYyRoAAnTFHzUZTQIAAnQKHpGuJR44elT0HDsq+g4fkkE/v2F0o8JvORQO/51z8mMJSICtL19apY0iAAG0IlrIIGBQgQBvEpTQChgQI0IZgKYtAEgIE6CTQGIIAAv8VIEDzLwGB1BMgQKfembFiBAjQ/BtAwD8CBGj/nAUrQSDlBAjQKXdkLBgBIUDzjwCB1BMgQKfembHi9BUgQKfv2bIzBIwLEKCNEzMBAtoFCNDaSSmIgHEBArRxYiZAwLEAAdoxFR0RQCC/AAE6vwivEfC/AAHa/2fEChHIL0CAzi/CawS8EyBAe2fPzAikvAABOuWPkA1koAABOgMPnS2nvAABOuWPkA2kkQABOo0Ok60gYFuAAG1bnPkQcC9AgHZvSAUEbAsQoG2LMx8C0QUI0NFtuIIAAnEECNBxgLiMgA8FCNA+PBSWhEAcAQJ0HCAuI2BRgABtEZupEEg3AQJ0up0o+8kEAQJ0Jpwye0w3AQJ0up0o+0llAQJ0Kp8ea0fAYwECtMcHwPQIJCFAgE4CjSEIeCxAgPb4AJgegTwCBOg8GDxFAIHEBAjQiXnRGwE/CBCg/XAKrAGBxAQI0Il50RsBkwIEaJO61EYgzQUI0Gl+wGwvLQUI0Gl5rGwqzQUI0Gl+wGwvpQQI0Cl1XCwWAX8JEKD9dR6sBgEnAgRoJ0r0QcBfAgRof50Hq8lsAQJ0Zp8/u0fAlQAB2hUfgxHwRIAA7Qk7kyLgSoAA7YqPwQhoFSBAa+WkGAKZJUCAzqzzZrfpIUCATo9zZBeZJUCAzqzzZrf+FiBA+/t8WB0CvhYgQPv6eFgcAhEFCNARWWhEwNcCBGhfHw+LyzABAnSGHTjbRUCnAAFapya1ELAjQIC248wsCOgUIEDr1KQWAu4ECNDu/BiNQEYLEKAz+vjZfIoKEKBT9OBYdkYLEKAz+vjZvM8ECNA+OxCWg0AqCRCgU+m0WCsC/xUgQPMvAYHUEyBAp96ZseL0FSBAp+/ZsjMEjAsQoI0TMwEC2gUI0NpJKYiAcQECtHFiJkDAsQAB2jEVHRFAIL8AATq/CK8R8L8AAdr/Z8QKEcgvQIDOL8JrBLwTIEB7Z8/MCKS8AAE65Y+QDWSgAAE6Aw+dLae8AAE65Y+QDaSRAAE6jQ6TrSBgW4AAbVuc+RBwL0CAdm9IBQRsCxCgbYszHwLRBQjQ0W24ggACcQQI0HGAuIyADwUI0D48FJaEQBwBAnQcIC4jYFGAAG0Rm6kQSDcBAnS6nSj7yQQBAnQmnDJ7TDcBAnS6nSj7SWUBAnQqnx5rR8BjAQK0xwfA9AgkIUCATgKNIQh4LECA9vgAmB6BPAIE6DwYPEUAgcQECNCJedEbAT8IEKD9cAqsAYHEBAjQiXnRGwGTAgRok7rURiDNBQjQaX7AbC8tBQjQaXmsbCrNBQjQaX7AbC+lBAjQKXVcLBYBfwkQoP11HqwGAScCBGgnSvRBwF8CBGh/nQeryWwBAnRmnz+7R8CVAAHaFR+DEfBEgADtCTuTIuBKgADtio/BCGgVIEBr5aQYApklQIDOrPNmt+khQIBOj3NkF5klQIDOrPNmt/4WIED7+3xYHQK+FiBA+/p4WBwCEQUI0BFZaETA1wIEaF8fD4vLMAECdIYdONtFQKcAAVqnJrUQsCNAgLbjzCwI6BQgQOvUpBYC7gQI0O78GI1ARgsQoDP6+Nl8igoQoFP04Fh2RgsQoDP6+Nm8zwQI0D47EJaDQCoJEKBT6bRYKwL/FSBA8y8BgdQTIECn3pmx4vQVIECn79myMwSMCxCgjRMzAQLaBQjQ2kkpiIBxAQK0cWImQMCxAAHaMRUdEUAgvwABOr8IrxHwvwAB2v9nxAoRyC9AgM4vwmsEvBMgQHtnz8wIpLwAATrlj5ANZKAAAToDD50tp7wAATrlj5ANpJEAATqNDpOtIGBbgABtW5z5EHAvQIB2b0gFBGwLEKBtizMfAtEFCNDRbbiCAAJxBAjQcYC4jIAPBQjQPjwUloRAHAECdBwgLiNgUYAAbRGbqRBINwECdLqdKPvJBAECdCacMntMNwECdLqdKPtJZQECdCqfHmtHwGMBArTHB8D0CCQhQIBOAo0hCHgsQID2+ACYHoE8AgToPBg8RQCBxAQI0Il50RsBPwgQoP1wCqwBgcQECNCJedEbAZMCBGiTutRGIM0FCNBpfsBsLy0FCNBpeaxsKs0FCNBpfsBsL6UECNApdVwsFgF/CRCg/XUerAYBJwIEaCdK9EHAXwIEaH+dB6vJbAECdGafP7tHwJUAAdoVH4MR8ESAAO0JO5Mi4EqAAO2Kj8EIaBUgQGvlpBgCmSVAgM6s82a36SFAgE6Pc2QXmSVAgM6s82a3/hYgQPv7fFgdAr4WIED7+nhYHAIRBQjQEVloRMDXAgRoXx8Pi8swAQJ0hh0420VAp8C/12/WWY5aCCBgQWDDli9FDv1uYSamQAABXQLVyp8itarV11WOOggg4EKAAO0Cj6EIIIAAAggggAACCCCAAAKZI0CAzpyzZqcIIIAAAggggAACCCCAAAIuBAjQLvAYigACCCCAAAIIIIAAAgggkDkCBOjMOWt2igACCCCAAAIIIIAAAggg4EKAAO0Cj6EIIIAAAggggAACCCCAAAKZI0CAzpyzZqcIIIAAAggggAACCCCAAAIuBAjQLvAYigACCCCAAAIIIIAAAgggkDkCBOjMOWt2igACCCCAAAIIIIAAAggg4EKAAO0Cj6EIIIAAAggggAACCCCAAAKZI0CAzpyzZqcIIIAAAggggAACCCCAAAIuBAjQLvAYigACCCCAAAIIIIAAAgggkDkCBOjMOWt2igACCCCAAAIIIIAAAggg4EKAAO0Cj6EIIIAAAggggAACCCCAAAKZI0CAzpyzZqcIIIAAAggggAACCCCAAAIuBAjQLvAYigACCCCAAAIIIIAAAgggkDkCBOjMOWt2igACCCCAAAIIIIAAAggg4EKAAO0Cj6EIIIAAAggggAACCCCAAAKZI0CAzpyzZqcIIIAAAggggAACCCCAAAIuBAjQLvAYigACCCCAAAIIIIAAAgggkDkCBOjMOWt2igACCCCAAAIIIIAAAggg4EKAAO0Cj6EIIIAAAggggAACCCCAAAKZI0CAzpyzZqcIIIAAAggggAACCCCAAAIuBAjQLvAYigACCCCAAAIIIIAAAgggkDkCBOjMOWt2igACCCCAAAIIIIAAAggg4EKAAO0Cj6EIIIAAAggggAACCCCAAAKZI0CAzpyzZqcIIIAAAggggAACCCCAAAIuBAjQLvAYigACCCCAAAIIIIAAAgggkDkCBOjMOWt2igACCCCAAAIIIIAAAggg4EKAAO0Cj6EIIIAAAggggAACCCCAAAKZI0CAzpyzZqcIIIAAAggggAACCCCAAAIuBP4faFsoFB3jof8AAAAASUVORK5CYII=)"
      ],
      "metadata": {
        "id": "7nvqfRx6ZGNr"
      }
    },
    {
      "cell_type": "markdown",
      "source": [
        "### 5.2.1. Obtener los parametros para la matriz"
      ],
      "metadata": {
        "id": "uFAbywkRaqA3"
      }
    },
    {
      "cell_type": "code",
      "source": [
        "fn_images = []\n",
        "fp_images = []"
      ],
      "metadata": {
        "id": "qbid70HnleMS"
      },
      "execution_count": null,
      "outputs": []
    },
    {
      "cell_type": "code",
      "source": [
        "# Realiza la prediccion de un arreglo de imagenes devolviendo las etiquetas\n",
        "# correspontiendes\n",
        "def get_predictions(images_array, path, false_array):\n",
        "  prediction_labels = []\n",
        "  for image_name in images_array:\n",
        "    image_path = os.path.join(path, image_name)\n",
        "    input_image = mp.Image.create_from_file(image_path)\n",
        "    classification_result = classifier.classify(input_image)\n",
        "    top_category = classification_result.classifications[0].categories[0]\n",
        "    if top_category.score < 0.90:\n",
        "      top_category = classification_result.classifications[0].categories[1]\n",
        "      false_array.append(image_path)\n",
        "    prediction_labels.append(top_category.category_name)\n",
        "  return prediction_labels"
      ],
      "metadata": {
        "id": "RIFdpnm0fxLu"
      },
      "execution_count": null,
      "outputs": []
    },
    {
      "cell_type": "code",
      "source": [
        "positive_test_path = os.path.join(test_path,'positive')"
      ],
      "metadata": {
        "id": "uOohD_KhhLV-"
      },
      "execution_count": null,
      "outputs": []
    },
    {
      "cell_type": "code",
      "source": [
        "negative_test_path = os.path.join(test_path,'negative')"
      ],
      "metadata": {
        "id": "M76swe6XhVlH"
      },
      "execution_count": null,
      "outputs": []
    },
    {
      "cell_type": "code",
      "source": [
        "positive_test_images = os.listdir(positive_test_path)\n",
        "negative_test_images = os.listdir(negative_test_path)"
      ],
      "metadata": {
        "id": "rCxx7lQpgxY-"
      },
      "execution_count": null,
      "outputs": []
    },
    {
      "cell_type": "code",
      "source": [
        "positive_labels = get_predictions(positive_test_images, positive_test_path, fn_images)"
      ],
      "metadata": {
        "id": "JJddNH5NhbWm"
      },
      "execution_count": null,
      "outputs": []
    },
    {
      "cell_type": "code",
      "source": [
        "tp = positive_labels.count('positive')\n",
        "fn = len(positive_labels) - tp"
      ],
      "metadata": {
        "id": "B3s8SduljBnJ"
      },
      "execution_count": null,
      "outputs": []
    },
    {
      "cell_type": "code",
      "source": [
        "negative_labels = get_predictions(negative_test_images, negative_test_path, fp_images)"
      ],
      "metadata": {
        "id": "TaxS54uuj13t"
      },
      "execution_count": null,
      "outputs": []
    },
    {
      "cell_type": "code",
      "source": [
        "tn = negative_labels.count('negative')\n",
        "fp = len(negative_labels) - tn"
      ],
      "metadata": {
        "id": "Xxfm34sDnEzW"
      },
      "execution_count": null,
      "outputs": []
    },
    {
      "cell_type": "code",
      "source": [
        "print(f'Verdaderos positivos {tp} Falsos negativos: {fn}')"
      ],
      "metadata": {
        "id": "PrnSYOfdm5UW"
      },
      "execution_count": null,
      "outputs": []
    },
    {
      "cell_type": "code",
      "source": [
        "print(f'Verdaderos negativos {tn} Falsos positivos: {fp}')"
      ],
      "metadata": {
        "id": "BxlCL8tqji71"
      },
      "execution_count": null,
      "outputs": []
    },
    {
      "cell_type": "code",
      "source": [
        "import numpy as np\n",
        "import matplotlib.pyplot as plt\n",
        "\n",
        "matrix = np.array([[tp, fp],\n",
        "                   [fn, tn]])\n",
        "\n",
        "plt.imshow(matrix, cmap='GnBu', interpolation='nearest')\n",
        "\n",
        "for i in range(matrix.shape[0]):\n",
        "    for j in range(matrix.shape[1]):\n",
        "        plt.text(j, i, str(matrix[i, j]), ha='center', va='center', color='gray')\n",
        "\n",
        "plt.colorbar()\n",
        "plt.xlabel('Valores reales')\n",
        "plt.ylabel('Valores predecidos')\n",
        "plt.title('Matriz de confusion')\n",
        "\n",
        "plt.show()\n"
      ],
      "metadata": {
        "id": "2tRfP6mbr3Aw"
      },
      "execution_count": null,
      "outputs": []
    },
    {
      "cell_type": "markdown",
      "source": [
        "### 5.2.2. Metricas de clasificacion\n"
      ],
      "metadata": {
        "id": "a43JfVnFcQnx"
      }
    },
    {
      "cell_type": "markdown",
      "source": [
        "#### Exactitud. Porcentaje de predicciones correctas en base al total. TP + TN / TP + TN + FP + FN"
      ],
      "metadata": {
        "id": "FGbSEPSMcvmg"
      }
    },
    {
      "cell_type": "code",
      "source": [
        "exac= (tp + tn) / (tp + tn + fp + fn)\n",
        "print(f\"Exactitud = {exac:.2%}\")"
      ],
      "metadata": {
        "id": "GhoAzsuldHk0"
      },
      "execution_count": null,
      "outputs": []
    },
    {
      "cell_type": "markdown",
      "source": [
        "#### Precision.  Se refiere a lo cerca que está el resultado de una predicción del valor verdadero. TP / TP + FP"
      ],
      "metadata": {
        "id": "L0O2Hpw1czhL"
      }
    },
    {
      "cell_type": "code",
      "source": [
        "pre = tp / (tp + fp)\n",
        "print(f\"Precision = {pre:.2%}\")"
      ],
      "metadata": {
        "id": "8E4qCcCgen16"
      },
      "execution_count": null,
      "outputs": []
    },
    {
      "cell_type": "markdown",
      "source": [
        "#### Sensibilidad. Es la proporción de casos positivos que fueron correctamente identificadas por el algoritmo. TP / (TP + FN)"
      ],
      "metadata": {
        "id": "2SyyTxZed82n"
      }
    },
    {
      "cell_type": "code",
      "source": [
        "sens = tp / (tp + fn)\n",
        "print(f\"Sensibilidad = {sens:.2%}\")"
      ],
      "metadata": {
        "id": "tFn0_Q-KetHr"
      },
      "execution_count": null,
      "outputs": []
    },
    {
      "cell_type": "markdown",
      "source": [
        "#### Especificidad. Se trata de los casos negativos que el algoritmo ha clasificado correctamente. Expresa cuan bien puede el modelo detectar esa clase. TN / TN + FP"
      ],
      "metadata": {
        "id": "i8LN2w3Tc3eI"
      }
    },
    {
      "cell_type": "code",
      "source": [
        "esp = tn / (tn + fp)\n",
        "print(f\"Especifidad = {esp:.2%}\")"
      ],
      "metadata": {
        "id": "RZLe6_XeeziP"
      },
      "execution_count": null,
      "outputs": []
    },
    {
      "cell_type": "markdown",
      "source": [
        "#### Tasa de clasificación errónea. Representa la cantidad de clasificaciones incorrectas obtuvo el modelo. FP + FN / TP + TN + FP + FN"
      ],
      "metadata": {
        "id": "mZfcsLwHdCYZ"
      }
    },
    {
      "cell_type": "code",
      "source": [
        "tce = (fp + fn) / (tp + tn + fp + fn)\n",
        "print(f\"Tasa de clasificacion erronea = {tce:.2%}\")"
      ],
      "metadata": {
        "id": "xUfbhOtce2Ew"
      },
      "execution_count": null,
      "outputs": []
    }
  ]
}